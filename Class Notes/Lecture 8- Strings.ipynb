{
 "cells": [
  {
   "cell_type": "markdown",
   "id": "6e848573",
   "metadata": {},
   "source": [
    "**Question 1**\n",
    "\n",
    "You're given strings jewels representing the types of stones that are jewels, and stones representing the stones you have. Each character in stones is a type of stone you have. You want to know how many of the stones you have are also jewels.\n",
    "\n",
    "Letters are case sensitive, so \"a\" is considered a different type of stone from \"A\".\n",
    "\n",
    "**Example 1:**\n",
    "\n",
    "**Input:** jewels = \"aA\", stones = \"aAAbbbb\"\n",
    "\n",
    "**Output:** 3\n",
    "\n",
    "**Solution:**\n",
    "\n",
    "**Intuition and Algorithm**\n",
    "\n",
    "For each stone, check whether it matches any of the jewels. We can check efficiently with a *Hash Set*.\n",
    "\n",
    "**Complexity Analysis**\n",
    "\n",
    "- Time Complexity: *O*(*J*.length+*S*.length). The *O*(*J*.length) part comes from creating J. The *O*(*S*.length) part comes from searching S.\n",
    "- Space Complexity: *O*(*J*.length)."
   ]
  },
  {
   "cell_type": "code",
   "execution_count": 1,
   "id": "d884aa27",
   "metadata": {},
   "outputs": [],
   "source": [
    "def numJewelsInStone(J, S):\n",
    "    Jset = set(J)\n",
    "    ans = 0\n",
    "    for s in S:\n",
    "        if s in Jset:\n",
    "            ans = ans + 1\n",
    "            \n",
    "    return ans"
   ]
  },
  {
   "cell_type": "code",
   "execution_count": 2,
   "id": "cc696f1e",
   "metadata": {},
   "outputs": [
    {
     "data": {
      "text/plain": [
       "3"
      ]
     },
     "execution_count": 2,
     "metadata": {},
     "output_type": "execute_result"
    }
   ],
   "source": [
    "jewels = \"aA\"\n",
    "stones = \"aAAbbbb\"\n",
    "numJewelsInStone(jewels, stones)"
   ]
  },
  {
   "cell_type": "markdown",
   "id": "99aff068",
   "metadata": {},
   "source": [
    "**Question 2**\n",
    "\n",
    "Given two strings s and t, return true *if* t *is an anagram of* s*, and* false *otherwise*.\n",
    "\n",
    "An **Anagram** is a word or phrase formed by rearranging the letters of a different word or phrase, typically using all the original letters exactly once.\n",
    "\n",
    "**Example 1:**\n",
    "\n",
    "**Input:** s = \"anagram\", t = \"nagaram\"\n",
    "\n",
    "**Output:** true\n",
    "\n",
    "**Solution:**\n",
    "\n",
    "<img src=\"q8.1.png\" width=\"500\" align='left'/>"
   ]
  },
  {
   "cell_type": "markdown",
   "id": "c284d072",
   "metadata": {},
   "source": [
    "**Complexity Analysis**\n",
    "\n",
    "- Time complexity: *O*(*n*) because accessing the counter table is a constant time operation.\n",
    "- Space complexity: *O*(1). Although we do use extra space, the space complexity is *O*(1) because the table's size stays constant no matter how large *n* is."
   ]
  },
  {
   "cell_type": "code",
   "execution_count": 3,
   "id": "eb89e56b",
   "metadata": {},
   "outputs": [],
   "source": [
    "def isAnagram(s, t):\n",
    "    if len(s) != len(t):\n",
    "        return False\n",
    "    counter = [0] * 26\n",
    "    for i in range(len(s)):\n",
    "        counter[ord(s[i]) - ord('a')] += 1\n",
    "        counter[ord(t[i]) - ord('a')] -= 1\n",
    "        \n",
    "    for count in counter:\n",
    "        if count != 0:\n",
    "            return False\n",
    "        \n",
    "    return True"
   ]
  },
  {
   "cell_type": "code",
   "execution_count": 4,
   "id": "ef206167",
   "metadata": {},
   "outputs": [
    {
     "data": {
      "text/plain": [
       "True"
      ]
     },
     "execution_count": 4,
     "metadata": {},
     "output_type": "execute_result"
    }
   ],
   "source": [
    "s = \"anagram\"\n",
    "t = \"nagaram\"\n",
    "isAnagram(s,t)"
   ]
  },
  {
   "cell_type": "markdown",
   "id": "8c0f324e",
   "metadata": {},
   "source": [
    "**Question 3**\n",
    "\n",
    "A phrase is a palindrome if, after converting all uppercase letters into lowercase letters and removing all non-alphanumeric characters, it reads the same forward and backward. Alphanumeric characters include letters and numbers.\n",
    "\n",
    "Given a string s, return true if it is a palindrome, or false otherwise.\n",
    "\n",
    "**Example 1:**\n",
    "\n",
    "**Input:** s = \"A man, a plan, a canal: Panama\"\n",
    "\n",
    "**Output:** true\n",
    "\n",
    "**Explanation:** \"amanaplanacanalpanama\" is a palindrome.\n",
    "\n",
    "**Solution:**\n",
    "\n",
    "Since the input string contains characters that we need to ignore in our palindromic check, it becomes tedious to figure out the real middle point of our palindromic input.\n",
    "\n",
    "So, if we start traversing inwards, from both ends of the input string, we can expect to *see* the same characters, in the same order.\n",
    "\n",
    "The resulting algorithm is simple:\n",
    "\n",
    "- Set two pointers, one at each end of the input string\n",
    "- If the input is palindromic, both the pointers should point to equivalent characters, *at all times*. [1](https://leetcode.com/problems/valid-palindrome/editorial/#user-content-fn-note-1)\n",
    "    - If this condition is not met at any point of time, we break and return early. [2](https://leetcode.com/problems/valid-palindrome/editorial/#user-content-fn-note-2)\n",
    "- We can simply ignore non-alphanumeric characters by continuing to traverse further.\n",
    "- Continue traversing inwards until the pointers meet in the middle.\n",
    "\n",
    "**Complexity Analysis**\n",
    "\n",
    "- Time complexity : *O*(*n*), in length *n* of the string. We traverse over each character at-most once, until the two pointers meet in the middle, or when we break and return early.\n",
    "- Space complexity : *O*(1). No extra space required, at all."
   ]
  },
  {
   "cell_type": "code",
   "execution_count": 5,
   "id": "ca71e7b8",
   "metadata": {},
   "outputs": [],
   "source": [
    "def isPalindrome(s):\n",
    "    i, j = 0, len(s)-1\n",
    "    \n",
    "    while i<j:\n",
    "        \n",
    "        while i<j and not s[i].isalnum():\n",
    "            i = i + 1\n",
    "        while i<j and not s[j].isalnum():\n",
    "            j = j - 1\n",
    "            \n",
    "        if s[i].lower() != s[j].lower():\n",
    "            return False\n",
    "        \n",
    "        i = i + 1\n",
    "        j = j - 1\n",
    "        \n",
    "    return True"
   ]
  },
  {
   "cell_type": "code",
   "execution_count": 6,
   "id": "fc1619c2",
   "metadata": {},
   "outputs": [
    {
     "data": {
      "text/plain": [
       "True"
      ]
     },
     "execution_count": 6,
     "metadata": {},
     "output_type": "execute_result"
    }
   ],
   "source": [
    "s = \"A man, a plan, a canal: Panama\"\n",
    "isPalindrome(s)"
   ]
  },
  {
   "cell_type": "markdown",
   "id": "699ff66a",
   "metadata": {},
   "source": [
    "**Question 4**\n",
    "\n",
    "You are given an array of strings words (**0-indexed**).\n",
    "\n",
    "In one operation, pick two **distinct** indices i and j, where words[i] is a non-empty string, and move **any** character from words[i] to **any** position in words[j].\n",
    "\n",
    "Return true *if you can make **every** string in* words ***equal** using **any** number of operations*, *and* false *otherwise*.\n",
    "\n",
    "**Example 1:**\n",
    "\n",
    "**Input:** words = [\"abc\",\"aabc\",\"bc\"]\n",
    "\n",
    "**Output:** true\n",
    "\n",
    "**Explanation:** Move the first 'a' in words[1] to the front of words[2],\n",
    "\n",
    "to make words[1] = \"abc\" and words[2] = \"abc\".\n",
    "\n",
    "All the strings are now equal to \"abc\", so return true.\n",
    "\n",
    "**Solution:**\n",
    "\n",
    "**Complexity Analysis**\n",
    "\n",
    "Time Complexity: O(N)\n",
    "\n",
    "Space Complexity : O(1)"
   ]
  },
  {
   "cell_type": "code",
   "execution_count": 15,
   "id": "0f86d31d",
   "metadata": {},
   "outputs": [],
   "source": [
    "def makeEqual(words):\n",
    "    n = len(words)\n",
    "    array = [0] * 26\n",
    "    \n",
    "    for word in words:\n",
    "        for c in word:\n",
    "            array[ord(c) - ord('a')] += 1\n",
    "    \n",
    "    for fq in array:\n",
    "        if fq%n != 0:\n",
    "            return False\n",
    "        \n",
    "    return True"
   ]
  },
  {
   "cell_type": "code",
   "execution_count": 16,
   "id": "acc23981",
   "metadata": {},
   "outputs": [
    {
     "data": {
      "text/plain": [
       "True"
      ]
     },
     "execution_count": 16,
     "metadata": {},
     "output_type": "execute_result"
    }
   ],
   "source": [
    "words = [\"abd\",\"aabd\",\"bd\"]\n",
    "makeEqual(words)"
   ]
  },
  {
   "cell_type": "code",
   "execution_count": 17,
   "id": "1e87b2a8",
   "metadata": {},
   "outputs": [
    {
     "data": {
      "text/plain": [
       "False"
      ]
     },
     "execution_count": 17,
     "metadata": {},
     "output_type": "execute_result"
    }
   ],
   "source": [
    "words = [\"ab\",\"b\",\"bb\"]\n",
    "makeEqual(words)"
   ]
  },
  {
   "cell_type": "markdown",
   "id": "0b4ae814",
   "metadata": {},
   "source": [
    "**Question 5**\n",
    "\n",
    "**Balanced** strings are those that have an equal quantity of 'L' and 'R' characters.\n",
    "\n",
    "Given a **balanced** string s, split it into some number of substrings such that:\n",
    "\n",
    "- Each substring is balanced.\n",
    "\n",
    "Return *the **maximum** number of balanced strings you can obtain.*\n",
    "\n",
    "**Example 1:**\n",
    "\n",
    "**Input:** s = \"RLRRLLRLRL\"\n",
    "\n",
    "**Output:** 4\n",
    "\n",
    "**Explanation:** s can be split into \"RL\", \"RRLL\", \"RL\", \"RL\", each substring contains same number of 'L' and 'R'.\n",
    "\n",
    "**Solution:**\n",
    "\n",
    "Greedily split the string, and with the counting L +1\n",
    "\n",
    "R -1, when the counter is reset to 0, we get one balanced string.\n",
    "\n",
    "**Complexity Analysis**\n",
    "\n",
    "Time Complexity : O(N)\n",
    "\n",
    "Space Complexity : O(1)"
   ]
  },
  {
   "cell_type": "code",
   "execution_count": 1,
   "id": "15b348b8",
   "metadata": {},
   "outputs": [],
   "source": [
    "def balancedStringSplit(s):\n",
    "    res=0\n",
    "    cnt=0\n",
    "    for i in range(len(s)):\n",
    "        if s[i]=='L':\n",
    "            cnt = cnt + 1\n",
    "        else:\n",
    "            cnt = cnt - 1\n",
    "            \n",
    "        if cnt==0:\n",
    "            res = res + 1\n",
    "            \n",
    "    return res"
   ]
  },
  {
   "cell_type": "code",
   "execution_count": 2,
   "id": "7b6c45d2",
   "metadata": {},
   "outputs": [
    {
     "data": {
      "text/plain": [
       "4"
      ]
     },
     "execution_count": 2,
     "metadata": {},
     "output_type": "execute_result"
    }
   ],
   "source": [
    "s = \"RLRRLLRLRL\"\n",
    "balancedStringSplit(s)"
   ]
  },
  {
   "cell_type": "markdown",
   "id": "6b29e7f7",
   "metadata": {},
   "source": [
    "**Question 6**\n",
    "\n",
    "Given a string s, reverse only all the vowels in the string and return it.\n",
    "\n",
    "The vowels are 'a', 'e', 'i', 'o', and 'u', and they can appear in both lower and upper cases, more than once.\n",
    "\n",
    "**Example 1:**\n",
    "\n",
    "**Input:** s = \"hello\"\n",
    "\n",
    "**Output:** \"holle\"\n",
    "\n",
    "**Solution:**\n",
    "\n",
    "**Algorithm**\n",
    "\n",
    "1. Initialize the left pointer start to 0, and the right pointer end to s.size() - 1.\n",
    "2. Keep iterating until the left pointer catches up with the right pointer:\n",
    "    1. Keep incrementing the left pointer start until it's pointing to a vowel character.\n",
    "    2. Keep decrementing the right pointer end until it's pointing to a vowel character.\n",
    "    3. Swap the characters at the start and end.\n",
    "    4. Increment the start pointer and decrement the end pointer.\n",
    "3. Return the string s.\n",
    "\n",
    "**Complexity Analysis**\n",
    "\n",
    "Here, *N* is the length of the string s.\n",
    "\n",
    "- Time complexity: *O*(*N*)\n",
    "    \n",
    "    It might be tempting to say that there are two nested loops and hence the complexity would be\n",
    "    \n",
    "- *O*(*N^2*). However, if we observe closely the pointers start and end will only traverse the index once. Each element of the string s will be iterated only once either by the left or right pointer and not both. We swap characters when both pointers point to vowels which are *O*(1) operation. Hence the total time complexity will be *O*(*N*).\n",
    "    \n",
    "    Note that in Java we need to convert the string to a char array as strings are immutable and hence it would take *O*(*N*) time.\n",
    "    \n",
    "- Space complexity: *O*(*N*)\n",
    "    \n",
    "    In C++ we only need an extra temporary variable to perform the swap and hence the space complexity is *O*(1). However, in Java, we need to convert the string to a char array that would take *O*(*N*) space, and therefore the space complexity for Java would be *O*(*N*)."
   ]
  },
  {
   "cell_type": "code",
   "execution_count": 3,
   "id": "427f8ec8",
   "metadata": {},
   "outputs": [],
   "source": [
    "def isVowel(c):\n",
    "    return c in ['a', 'e', 'i', 'o', 'u', 'A', 'E', 'I', 'O', 'U']"
   ]
  },
  {
   "cell_type": "code",
   "execution_count": 5,
   "id": "20bc78c3",
   "metadata": {},
   "outputs": [
    {
     "data": {
      "text/plain": [
       "False"
      ]
     },
     "execution_count": 5,
     "metadata": {},
     "output_type": "execute_result"
    }
   ],
   "source": [
    "isVowel('b')"
   ]
  },
  {
   "cell_type": "code",
   "execution_count": 6,
   "id": "42beedf5",
   "metadata": {},
   "outputs": [],
   "source": [
    "def swap(chars, x, y):\n",
    "    chars[x], chars[y] = chars[y], chars[x]"
   ]
  },
  {
   "cell_type": "code",
   "execution_count": 7,
   "id": "7c71bebc",
   "metadata": {},
   "outputs": [],
   "source": [
    "def reverseVowels(s):\n",
    "    start = 0\n",
    "    end = len(s)-1\n",
    "    \n",
    "    # Convert string to list of characters as strings are immutable in Python\n",
    "    s_list = list(s)\n",
    "    \n",
    "    # While we still have characters to traverse\n",
    "    while start < end:\n",
    "        \n",
    "        # Find the leftmost vowel\n",
    "        while start < len(s) and not isVowel(s_list[start]):\n",
    "            start = start + 1\n",
    "            \n",
    "        # Find the rightmost vowel\n",
    "        while end >= 0 and not isVowel(s_list[end]) :\n",
    "            end = end - 1\n",
    "            \n",
    "        # Swap them if start is left of end\n",
    "        if start < end:\n",
    "            swap(s_list, start, end)\n",
    "            start = start + 1\n",
    "            end = end - 1\n",
    "            \n",
    "    return ''.join(s_list)\n",
    "            "
   ]
  },
  {
   "cell_type": "code",
   "execution_count": 8,
   "id": "17dca03c",
   "metadata": {},
   "outputs": [
    {
     "data": {
      "text/plain": [
       "'holle'"
      ]
     },
     "execution_count": 8,
     "metadata": {},
     "output_type": "execute_result"
    }
   ],
   "source": [
    "s = \"hello\"\n",
    "reverseVowels(s)"
   ]
  },
  {
   "cell_type": "code",
   "execution_count": null,
   "id": "6b03c400",
   "metadata": {},
   "outputs": [],
   "source": []
  },
  {
   "cell_type": "code",
   "execution_count": null,
   "id": "036f41ab",
   "metadata": {},
   "outputs": [],
   "source": []
  },
  {
   "cell_type": "code",
   "execution_count": null,
   "id": "fd6b636f",
   "metadata": {},
   "outputs": [],
   "source": []
  }
 ],
 "metadata": {
  "kernelspec": {
   "display_name": "Python 3 (ipykernel)",
   "language": "python",
   "name": "python3"
  },
  "language_info": {
   "codemirror_mode": {
    "name": "ipython",
    "version": 3
   },
   "file_extension": ".py",
   "mimetype": "text/x-python",
   "name": "python",
   "nbconvert_exporter": "python",
   "pygments_lexer": "ipython3",
   "version": "3.9.13"
  }
 },
 "nbformat": 4,
 "nbformat_minor": 5
}
