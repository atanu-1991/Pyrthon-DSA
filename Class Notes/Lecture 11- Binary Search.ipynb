{
 "cells": [
  {
   "cell_type": "markdown",
   "id": "148b6294",
   "metadata": {},
   "source": [
    "**Question 1**\n",
    "\n",
    "You are given an `m x n` integer matrix `matrix` with the following two properties:\n",
    "\n",
    "- Each row is sorted in non-decreasing order.\n",
    "- The first integer of each row is greater than the last integer of the previous row.\n",
    "\n",
    "Given an integer `target`, return `true` *if* `target` *is in* `matrix` *or* `false` *otherwise*.\n",
    "\n",
    "You must write a solution in `O(log(m * n))` time complexity.\n",
    "\n",
    "**Example 1:**\n",
    "\n",
    "<img src=\"q11.1.1.jpg\" width=\"100\" align='left'/>"
   ]
  },
  {
   "cell_type": "markdown",
   "id": "7bd6b523",
   "metadata": {},
   "source": [
    "Input: matrix = [[1,3,5,7],[10,11,16,20],[23,30,34,60]], target = 3  \n",
    "Output: true\n",
    "\n",
    "**Example 2:**\n",
    "\n",
    "<img src=\"q11.1.2.jpg\" width=\"100\" align='left'/>"
   ]
  },
  {
   "cell_type": "markdown",
   "id": "86d4571e",
   "metadata": {},
   "source": [
    "Input: matrix = [[1,3,5,7],[10,11,16,20],[23,30,34,60]], target = 13  \n",
    "Output: false\n",
    "\n",
    "**Explanation :** \n",
    "\n",
    "1. we will find the row that contains our target element.\n",
    "2. To that we compare target to last element of each row.\n",
    "3. If target <= last element then we will apply binary-search on that row.\n",
    "4. when we get target element we will return true.\n",
    "\n",
    "- Time complexity: O(mlogn) ( where m is number of rows in matrix.)\n",
    "- Space complexity: O(1)\n",
    "\n",
    "**Solution :**"
   ]
  },
  {
   "cell_type": "code",
   "execution_count": 1,
   "id": "46f4cbef",
   "metadata": {},
   "outputs": [],
   "source": [
    "def searchMatrix(matrix, target):\n",
    "    n = len(matrix[0])-1\n",
    "    for i in range(len(matrix)):\n",
    "        if (target <= matrix[i][n]):\n",
    "            start = 0\n",
    "            end = n\n",
    "            middle = 0\n",
    "            \n",
    "            while(start<=end):\n",
    "                middle = (start + end) // 2\n",
    "                \n",
    "                if (matrix[i][middle]==target):\n",
    "                    return True\n",
    "                elif (matrix[i][middle]<=target):\n",
    "                    start = middle + 1\n",
    "                else:\n",
    "                    end = middle - 1\n",
    "                    \n",
    "    return False\n",
    "            "
   ]
  },
  {
   "cell_type": "code",
   "execution_count": 3,
   "id": "308b999f",
   "metadata": {},
   "outputs": [
    {
     "data": {
      "text/plain": [
       "False"
      ]
     },
     "execution_count": 3,
     "metadata": {},
     "output_type": "execute_result"
    }
   ],
   "source": [
    "matrix = [[1,3,5,7],[10,11,16,20],[23,30,34,60]]\n",
    "target = 13\n",
    "searchMatrix(matrix, target)"
   ]
  },
  {
   "cell_type": "code",
   "execution_count": 4,
   "id": "44187be8",
   "metadata": {},
   "outputs": [],
   "source": [
    "# Alternate Approach\n",
    "def searchMatrix(matrix, target) -> bool:\n",
    "        \n",
    "        # Binary Search\n",
    "        row, col = len(matrix), len(matrix[0])\n",
    "        i, j = 0, (row * col) - 1\n",
    "\n",
    "        while i <= j:\n",
    "            mid = (i + j) >> 1\n",
    "            mid_element = matrix[mid // col][mid % col] \n",
    "            if mid_element == target:\n",
    "                return True\n",
    "            elif mid_element < target:\n",
    "                i = mid + 1\n",
    "            else:\n",
    "                j = mid - 1\n",
    "        return False"
   ]
  },
  {
   "cell_type": "code",
   "execution_count": 6,
   "id": "a533bdbd",
   "metadata": {},
   "outputs": [
    {
     "data": {
      "text/plain": [
       "True"
      ]
     },
     "execution_count": 6,
     "metadata": {},
     "output_type": "execute_result"
    }
   ],
   "source": [
    "matrix = [[1,3,5,7],[10,11,16,20],[23,30,34,60]]\n",
    "target = 3\n",
    "searchMatrix(matrix, target)"
   ]
  },
  {
   "cell_type": "markdown",
   "id": "f2ad5691",
   "metadata": {},
   "source": [
    "**Question 2**\n",
    "\n",
    "Given a sorted array of distinct integers and a target value, return the index if the target is found. If not, return the index where it would be if it were inserted in order.\n",
    "\n",
    "You must write an algorithm with `O(log n)` runtime complexity.\n",
    "\n",
    "**Example 1:**\n",
    "Input: nums = [1,3,5,6], target = 5  \n",
    "Output: 2  \n",
    "\n",
    "**Example 2:**\n",
    "Input: nums = [1,3,5,6], target = 2  \n",
    "Output: 1  \n",
    "\n",
    "**Example 3:**\n",
    "Input: nums = [1,3,5,6], target = 7  \n",
    "Output: 4  \n",
    "\n",
    "**Complexity:**\n",
    "\n",
    "- The time complexity of this solution is O(log n) because the binary search algorithm divides the search space in half at each step.\n",
    "- The space complexity is O(1) since the algorithm uses only a constant amount of extra space.\n",
    "\n",
    "**Solution :**"
   ]
  },
  {
   "cell_type": "code",
   "execution_count": 12,
   "id": "04eeb21c",
   "metadata": {},
   "outputs": [],
   "source": [
    "def searchInsert(nums, target):\n",
    "    start = 0\n",
    "    end = len(nums) - 1\n",
    "    \n",
    "    while (start<=end):\n",
    "        \n",
    "        middle = (start + end)//2\n",
    "        \n",
    "        if nums[middle]==target:\n",
    "            \n",
    "            return middle # Element present\n",
    "        \n",
    "        elif nums[middle]<target:\n",
    "            \n",
    "            start = middle + 1\n",
    "            \n",
    "        else:\n",
    "            end = middle - 1\n",
    "            \n",
    "    return start # Element absent"
   ]
  },
  {
   "cell_type": "code",
   "execution_count": 13,
   "id": "2272a12a",
   "metadata": {},
   "outputs": [
    {
     "data": {
      "text/plain": [
       "2"
      ]
     },
     "execution_count": 13,
     "metadata": {},
     "output_type": "execute_result"
    }
   ],
   "source": [
    "nums = [1,3,5,6]\n",
    "target = 5\n",
    "searchInsert(nums, target)"
   ]
  },
  {
   "cell_type": "code",
   "execution_count": 14,
   "id": "b6bcb123",
   "metadata": {},
   "outputs": [
    {
     "data": {
      "text/plain": [
       "1"
      ]
     },
     "execution_count": 14,
     "metadata": {},
     "output_type": "execute_result"
    }
   ],
   "source": [
    "nums = [1,3,5,6]\n",
    "target = 2\n",
    "searchInsert(nums, target)"
   ]
  },
  {
   "cell_type": "code",
   "execution_count": 15,
   "id": "9b32b786",
   "metadata": {},
   "outputs": [
    {
     "data": {
      "text/plain": [
       "4"
      ]
     },
     "execution_count": 15,
     "metadata": {},
     "output_type": "execute_result"
    }
   ],
   "source": [
    "nums = [1,3,5,6]\n",
    "target = 7\n",
    "searchInsert(nums, target)"
   ]
  },
  {
   "cell_type": "markdown",
   "id": "8f97eead",
   "metadata": {},
   "source": [
    "**Question 3**\n",
    "\n",
    "There is an integer array `nums` sorted in ascending order (with **distinct** values).\n",
    "\n",
    "Prior to being passed to your function, `nums` is **possibly rotated** at an unknown pivot index `k` (`1 <= k < nums.length`) such that the resulting array is `[nums[k], nums[k+1], ..., nums[n-1], nums[0], nums[1], ..., nums[k-1]]` (**0-indexed**). For example, `[0,1,2,4,5,6,7]` might be rotated at pivot index `3` and become `[4,5,6,7,0,1,2]`.\n",
    "\n",
    "Given the array `nums` **after** the possible rotation and an integer `target`, return *the index of* `target` *if it is in* `nums`*, or* `-1` *if it is not in* `nums`.\n",
    "\n",
    "You must write an algorithm with `O(log n)` runtime complexity.\n",
    "\n",
    "**Example 1:**\n",
    "Input: nums = [4,5,6,7,0,1,2], target = 0  \n",
    "Output: 4  \n",
    "\n",
    "**Example 2:**\n",
    "Input: nums = [4,5,6,7,0,1,2], target = 3  \n",
    "Output: -1  \n",
    "\n",
    "**Example 3:**\n",
    "Input: nums = [1], target = 0  \n",
    "Output: -1  \n",
    "\n",
    "**Explanation :** \n",
    "\n",
    "- The Binary search approach is based on the fact that a rotated sorted array can be divided into two sorted arrays.\n",
    "    1. The approach starts with finding the mid element and compares it with the target element.\n",
    "    2. If they are equal, it returns the mid index. If the left half of the array is sorted, then it checks if the target lies between the start and the mid, and updates the end pointer accordingly.\n",
    "    3. Otherwise, it checks if the target lies between mid and end, and updates the start pointer accordingly.\n",
    "    4. If the right half of the array is sorted, then it checks if the target lies between mid and end, and updates the start pointer accordingly.\n",
    "    5. Otherwise, it checks if the target lies between start and mid, and updates the end pointer accordingly.\n",
    "    6. This process continues until the target element is found, or the start pointer becomes greater than the end pointer, in which case it returns -1.\n",
    "    7. This approach has a time complexity of O(log n).\n",
    "    \n",
    "**Complexity:**\n",
    "\n",
    "- Time Complexity:\n",
    "    \n",
    "    The time complexity of the Binary search approach is O(log n), where n is the size of the input array.\n",
    "    \n",
    "- Space Complexity:\n",
    "    \n",
    "    The space complexity of both approaches is O(1) as we are not using any extra space to store any intermediate results.\n",
    "    \n",
    "\n",
    "**Solution :**"
   ]
  },
  {
   "cell_type": "code",
   "execution_count": 20,
   "id": "03f91114",
   "metadata": {},
   "outputs": [],
   "source": [
    "def search(nums, target):\n",
    "    start = 0\n",
    "    end = len(nums) - 1\n",
    "    while (start <= end):\n",
    "        middle = (start + end) // 2\n",
    "        if (nums[middle] == target) :\n",
    "            return middle\n",
    "        \n",
    "        # Check if left side is sorted\n",
    "        if (nums[start] <= nums[middle]):\n",
    "            if (target >= nums[start] and target <= nums[middle]):\n",
    "                end = middle - 1\n",
    "            else:\n",
    "                start = middle + 1\n",
    "        \n",
    "        # Check if right side is sorted\n",
    "        else:\n",
    "            if (target >= nums[middle] and target <= nums[end]):\n",
    "                start = middle + 1\n",
    "            else:\n",
    "                end = middle - 1\n",
    "                \n",
    "    return -1             "
   ]
  },
  {
   "cell_type": "code",
   "execution_count": 21,
   "id": "ffb7d5de",
   "metadata": {},
   "outputs": [
    {
     "data": {
      "text/plain": [
       "4"
      ]
     },
     "execution_count": 21,
     "metadata": {},
     "output_type": "execute_result"
    }
   ],
   "source": [
    "nums = [4,5,6,7,0,1,2]\n",
    "target = 0\n",
    "search(nums, target)"
   ]
  },
  {
   "cell_type": "code",
   "execution_count": 22,
   "id": "d19d59ce",
   "metadata": {},
   "outputs": [
    {
     "data": {
      "text/plain": [
       "-1"
      ]
     },
     "execution_count": 22,
     "metadata": {},
     "output_type": "execute_result"
    }
   ],
   "source": [
    "nums = [4,5,6,7,0,1,2]\n",
    "target = 3\n",
    "search(nums, target)"
   ]
  },
  {
   "cell_type": "code",
   "execution_count": null,
   "id": "4754759b",
   "metadata": {},
   "outputs": [],
   "source": []
  },
  {
   "cell_type": "code",
   "execution_count": null,
   "id": "930fafeb",
   "metadata": {},
   "outputs": [],
   "source": []
  }
 ],
 "metadata": {
  "kernelspec": {
   "display_name": "Python 3 (ipykernel)",
   "language": "python",
   "name": "python3"
  },
  "language_info": {
   "codemirror_mode": {
    "name": "ipython",
    "version": 3
   },
   "file_extension": ".py",
   "mimetype": "text/x-python",
   "name": "python",
   "nbconvert_exporter": "python",
   "pygments_lexer": "ipython3",
   "version": "3.9.13"
  }
 },
 "nbformat": 4,
 "nbformat_minor": 5
}
