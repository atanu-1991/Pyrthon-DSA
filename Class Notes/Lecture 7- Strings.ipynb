{
 "cells": [
  {
   "cell_type": "markdown",
   "id": "52c4395d",
   "metadata": {},
   "source": [
    "**Question 1**\n",
    "\n",
    "Write a function that reverses a string. The input string is given as an array of characters s.\n",
    "\n",
    "You must do this by modifying the input array [in-place](https://en.wikipedia.org/wiki/In-place_algorithm) with O(1) extra memory.\n",
    "\n",
    "**Example 1:**\n",
    "\n",
    "**Input:** s = [\"h\",\"e\",\"l\",\"l\",\"o\"]\n",
    "\n",
    "**Output:** [\"o\",\"l\",\"l\",\"e\",\"h\"]\n",
    "\n",
    "**Solution:**\n",
    "\n",
    "**Two Pointers Approach**\n",
    "\n",
    "In this approach, two pointers are used to process two array elements\n",
    "\n",
    "at the same time. Usual implementation is to set one pointer in the\n",
    "\n",
    "beginning and one at the end and then to move them until they both meet.\n",
    "\n",
    "**Algorithm**\n",
    "\n",
    "- Set pointer left at index 0, and pointer right at index n - 1,\n",
    "    \n",
    "    where n is a number of elements in the array.  \n",
    "    \n",
    "    \n",
    "- While left < right:\n",
    "    - Swap s[left] and s[right].\n",
    "    - Move left pointer one step right, and right pointer one step left.\n",
    "\n",
    "**Complexity Analysis**\n",
    "\n",
    "- Time complexity: O(*N*) to swap *N*/2 element.\n",
    "- Space complexity: O(1), it's a constant space solution."
   ]
  },
  {
   "cell_type": "code",
   "execution_count": 16,
   "id": "71df7dfc",
   "metadata": {},
   "outputs": [],
   "source": [
    "def reverseString(s):\n",
    "    left = 0\n",
    "    right = len(s)-1\n",
    "    s = list(s)\n",
    "    while left<right:\n",
    "        s[left], s[right] = s[right], s[left]\n",
    "        left = left + 1\n",
    "        right = right - 1\n",
    "    s = \"\".join(s)\n",
    "    return s"
   ]
  },
  {
   "cell_type": "code",
   "execution_count": 17,
   "id": "2186b475",
   "metadata": {},
   "outputs": [
    {
     "data": {
      "text/plain": [
       "'dcba'"
      ]
     },
     "execution_count": 17,
     "metadata": {},
     "output_type": "execute_result"
    }
   ],
   "source": [
    "s = \"abcd\"\n",
    "reverseString(s)"
   ]
  },
  {
   "cell_type": "markdown",
   "id": "fddd861b",
   "metadata": {},
   "source": [
    "**Question 2**\n",
    "\n",
    "Given a string s, *find the first non-repeating character in it and return its index*. If it does not exist, return -1.\n",
    "\n",
    "**Example 1:**\n",
    "\n",
    "**Input:** s = \"leetcode\"\n",
    "\n",
    "**Output:** 0\n",
    "\n",
    "**Solution:**\n",
    "\n",
    "The best possible solution here could be of a linear time because to ensure that the character is unique you have to check the whole string anyway. The idea is to go through the string and save in a hash map the number of times each character appears in the string.\n",
    "\n",
    "And then we go through the string the second time, this time we use the hash map as a reference to check if a character is unique or not. \n",
    "\n",
    "If the character is unique, one could just return its index.\n",
    "\n",
    "**Complexity Analysis**\n",
    "\n",
    "- Time complexity : O(*N*) since we go through the string of length N two times.\n",
    "- Space complexity : O(1) because English alphabet contains 26 letters."
   ]
  },
  {
   "cell_type": "code",
   "execution_count": 23,
   "id": "90e68bc9",
   "metadata": {},
   "outputs": [],
   "source": [
    "def firstUniqChar(s):\n",
    "    count = {}\n",
    "    n = len(s)\n",
    "    \n",
    "    # Build HashMap: Character and How often it appears\n",
    "    for i in range(n):\n",
    "        c = s[i]\n",
    "        count[c] = count.get(c, 0) + 1\n",
    "        \n",
    "    # Find the Index\n",
    "    for i in range(n):\n",
    "        if count[s[i]] == 1:\n",
    "            return i\n",
    "        \n",
    "    return -1"
   ]
  },
  {
   "cell_type": "code",
   "execution_count": 28,
   "id": "713763e5",
   "metadata": {},
   "outputs": [
    {
     "data": {
      "text/plain": [
       "3"
      ]
     },
     "execution_count": 28,
     "metadata": {},
     "output_type": "execute_result"
    }
   ],
   "source": [
    "s = \"leetlcode\"\n",
    "firstUniqChar(s)"
   ]
  },
  {
   "cell_type": "markdown",
   "id": "da5ddd1c",
   "metadata": {},
   "source": [
    "**Question 3**\n",
    "\n",
    "Given a string s consisting of words and spaces, return *the length of the **last** word in the string.*\n",
    "\n",
    "A **word** is a maximal substring consisting of non-space characters only.\n",
    "\n",
    "**Example 1:**\n",
    "\n",
    "**Input:** s = \"Hello World\"\n",
    "\n",
    "**Output:** 5\n",
    "\n",
    "**Explanation:** The last word is \"World\" with length 5.\n",
    "\n",
    "**Solution:**\n",
    "\n",
    "One can break down the solution into two steps:\n",
    "\n",
    "- First, we would try to locate the last word, starting from the end of the string. We iterate the string in reverse order, consuming the empty spaces. When we first come across a non-space character, we know that we are at the last character of the last word.\n",
    "- Second, once we locate the last word. We count its length, starting from its last character. Again, we could use a loop here.\n",
    "\n",
    "**Complexity**\n",
    "\n",
    "- Time Complexity: O(*N*), where *N* is the length of the input string.\n",
    "    \n",
    "    In the worst case, the input string might contain only a single word, which implies that we would need to iterate through the entire string to obtain the result.\n",
    "    \n",
    "- Space Complexity: O(1), only constant memory is consumed, regardless the input."
   ]
  },
  {
   "cell_type": "code",
   "execution_count": 35,
   "id": "f78d7327",
   "metadata": {},
   "outputs": [],
   "source": [
    "def lengthOfLastWord(s):\n",
    "    # trim the trailing spaces\n",
    "    p = len(s)-1\n",
    "    while p >= 0 and s[p] == ' ':\n",
    "        p = p - 1\n",
    "        \n",
    "    # compute the length of last word\n",
    "    length=0\n",
    "    while p >= 0 and s[p] != ' ':\n",
    "        p = p - 1\n",
    "        length = length + 1\n",
    "        \n",
    "    return length"
   ]
  },
  {
   "cell_type": "code",
   "execution_count": 36,
   "id": "3b82c18e",
   "metadata": {},
   "outputs": [
    {
     "data": {
      "text/plain": [
       "5"
      ]
     },
     "execution_count": 36,
     "metadata": {},
     "output_type": "execute_result"
    }
   ],
   "source": [
    "s = 'abcd def ghhjd    '\n",
    "lengthOfLastWord(s)"
   ]
  },
  {
   "cell_type": "markdown",
   "id": "d9a20e82",
   "metadata": {},
   "source": [
    "**Question 4**\n",
    "\n",
    "Write a function to find the longest common prefix string amongst an array of strings.\n",
    "\n",
    "If there is no common prefix, return an empty string \"\".\n",
    "\n",
    "**Example 1:**\n",
    "\n",
    "**Input:** strs = [\"flower\",\"flow\",\"flight\"]\n",
    "\n",
    "**Output:** \"fl\"\n",
    "\n",
    "**Solution:**\n",
    "\n",
    "<img src=\"q7.4.1.png\" width=\"500\" align='left'/>\n",
    "\n",
    "<img src=\"q7.4.2.png\" width=\"500\" align='left'/>\n",
    "\n",
    "<img src=\"q7.4.3.png\" width=\"500\" align='left'/>"
   ]
  },
  {
   "cell_type": "code",
   "execution_count": 42,
   "id": "2ccc6703",
   "metadata": {},
   "outputs": [],
   "source": [
    "def longestCommonPrefix(strs):\n",
    "    if len(strs) == 0:\n",
    "        return \"\"\n",
    "    \n",
    "    prefix = strs[0]\n",
    "    \n",
    "    for i in range(1, len(strs)):\n",
    "        \n",
    "        while strs[i].find(prefix) != 0:\n",
    "            \n",
    "            prefix = prefix[:-1]\n",
    "            \n",
    "            if len(prefix) == 0:\n",
    "                return \"\"\n",
    "            \n",
    "    return prefix"
   ]
  },
  {
   "cell_type": "code",
   "execution_count": 44,
   "id": "3fa57309",
   "metadata": {},
   "outputs": [
    {
     "data": {
      "text/plain": [
       "'fl'"
      ]
     },
     "execution_count": 44,
     "metadata": {},
     "output_type": "execute_result"
    }
   ],
   "source": [
    "strs = [\"flower\",\"flow\",\"flight\"]\n",
    "longestCommonPrefix(strs)"
   ]
  },
  {
   "cell_type": "markdown",
   "id": "6e7b89e6",
   "metadata": {},
   "source": [
    "**Question 5**\n",
    "\n",
    "Given a string s, find the length of the **longest substring** without repeating characters.\n",
    "\n",
    "**Example 1:**\n",
    "\n",
    "**Input:** s = \"abcabcbb\"\n",
    "\n",
    "**Output:** 3\n",
    "\n",
    "**Explanation:** The answer is \"abc\", with the length of 3.\n",
    "\n",
    "<img src=\"q7.5.png\" width=\"500\" align='left'/>"
   ]
  },
  {
   "cell_type": "markdown",
   "id": "00042a9a",
   "metadata": {},
   "source": [
    "**Complexity Analysis**\n",
    "\n",
    "- Time complexity : *O*(*n*). Index *j* will iterate *n* times.\n",
    "- Space complexity : *O*(*min*(*m*, *n*)). Same as the previous approach."
   ]
  },
  {
   "cell_type": "code",
   "execution_count": 5,
   "id": "3e1d5dbc",
   "metadata": {},
   "outputs": [],
   "source": [
    "def lengthofLongestSubString(s):\n",
    "    n = len(s)\n",
    "    ans = 0\n",
    "    map = {} # current index of character\n",
    "    \n",
    "    # try to extend the range [i,j]\n",
    "    i = 0\n",
    "    for j in range(n):\n",
    "        if s[j] in map:\n",
    "            i = max(map[s[j]], i)\n",
    "        ans = max(ans, j - i + 1)\n",
    "        map[s[j]] = j + 1\n",
    "    \n",
    "    print(map)\n",
    "    return ans"
   ]
  },
  {
   "cell_type": "code",
   "execution_count": 6,
   "id": "3f4a4471",
   "metadata": {},
   "outputs": [
    {
     "name": "stdout",
     "output_type": "stream",
     "text": [
      "{'a': 6, 'b': 2, 'c': 3, 'd': 5}\n"
     ]
    },
    {
     "data": {
      "text/plain": [
       "4"
      ]
     },
     "execution_count": 6,
     "metadata": {},
     "output_type": "execute_result"
    }
   ],
   "source": [
    "s = \"abcada\"\n",
    "lengthofLongestSubString(s)"
   ]
  },
  {
   "cell_type": "markdown",
   "id": "7f07b4c2",
   "metadata": {},
   "source": [
    "**Question 6**\n",
    "\n",
    "Given an input string s, reverse the order of the **words**.\n",
    "\n",
    "A **word** is defined as a sequence of non-space characters. The **words** in s will be separated by at least one space.\n",
    "\n",
    "Return *a string of the words in reverse order concatenated by a single space.*\n",
    "\n",
    "**Note** that s may contain leading or trailing spaces or multiple spaces between two words. The returned string should only have a single space separating the words. Do not include any extra spaces.\n",
    "\n",
    "**Example 1:**\n",
    "\n",
    "**Input:** s = \"the sky is blue\"\n",
    "\n",
    "**Output:** \"blue is sky the\"\n",
    "\n",
    "**Solution:**\n",
    "\n",
    "**Approach 1: Built-in Split + Reverse**\n",
    "\n",
    "**Complexity Analysis**\n",
    "\n",
    "- Time complexity: O(*N*), where N is a number of characters in the input string.\n",
    "- Space complexity: O(*N*), to store the result of split by spaces."
   ]
  },
  {
   "cell_type": "code",
   "execution_count": 7,
   "id": "871cd58c",
   "metadata": {},
   "outputs": [],
   "source": [
    "def reverseWords(s):\n",
    "    # remove leading and trailing spaces\n",
    "    s = s.strip()\n",
    "    # split by multiple spaces\n",
    "    wordList = s.split()\n",
    "    # reverse the list of words\n",
    "    wordList.reverse()\n",
    "    # join the words with a space separator\n",
    "    ans = \" \".join(wordList)\n",
    "    \n",
    "    return ans"
   ]
  },
  {
   "cell_type": "code",
   "execution_count": 9,
   "id": "83632c37",
   "metadata": {},
   "outputs": [
    {
     "data": {
      "text/plain": [
       "'blue is sky the'"
      ]
     },
     "execution_count": 9,
     "metadata": {},
     "output_type": "execute_result"
    }
   ],
   "source": [
    "s = \" the    sky        is blue  \"\n",
    "reverseWords(s)"
   ]
  },
  {
   "cell_type": "markdown",
   "id": "572b5373",
   "metadata": {},
   "source": [
    "**Approach 2: Deque of Words**\n",
    "\n",
    "<img src=\"q7.6.png\" width=\"500\" align='left'/>"
   ]
  },
  {
   "cell_type": "markdown",
   "id": "e8e84f6b",
   "metadata": {},
   "source": [
    "**Complexity Analysis**\n",
    "\n",
    "- Time complexity: O(*N*).\n",
    "- Space complexity: O(*N*)."
   ]
  },
  {
   "cell_type": "code",
   "execution_count": 22,
   "id": "ad298ffa",
   "metadata": {},
   "outputs": [],
   "source": [
    "from collections import deque\n",
    "\n",
    "def reverseWord(s):\n",
    "    left, right = 0, len(s)-1\n",
    "    \n",
    "    # remove leading spaces\n",
    "    while left<=right and s[left]==' ':\n",
    "        left = left + 1\n",
    "        \n",
    "    # remove trailing spaces\n",
    "    while left<=right and s[right]==' ':\n",
    "        right = right - 1\n",
    "        \n",
    "    d = deque()\n",
    "    word = []\n",
    "    \n",
    "    # push word by word in front of deque\n",
    "    while left<=right:\n",
    "        c = s[left]\n",
    "        \n",
    "        if len(word) != 0 and c==' ':\n",
    "            d.appendleft(''.join(word))\n",
    "            word = []\n",
    "        \n",
    "        elif c!=' ':\n",
    "            word.append(c)\n",
    "            \n",
    "        left = left + 1\n",
    "        \n",
    "    d.appendleft(''.join(word))\n",
    "    \n",
    "    return ' '.join(d)"
   ]
  },
  {
   "cell_type": "code",
   "execution_count": 23,
   "id": "40348138",
   "metadata": {},
   "outputs": [
    {
     "data": {
      "text/plain": [
       "'blue is sky the'"
      ]
     },
     "execution_count": 23,
     "metadata": {},
     "output_type": "execute_result"
    }
   ],
   "source": [
    "s = \" the    sky        is blue  \"\n",
    "reverseWord(s)"
   ]
  },
  {
   "cell_type": "code",
   "execution_count": null,
   "id": "bc30e6fd",
   "metadata": {},
   "outputs": [],
   "source": []
  },
  {
   "cell_type": "code",
   "execution_count": null,
   "id": "a5463bbe",
   "metadata": {},
   "outputs": [],
   "source": []
  },
  {
   "cell_type": "code",
   "execution_count": null,
   "id": "9d9ead8c",
   "metadata": {},
   "outputs": [],
   "source": []
  }
 ],
 "metadata": {
  "kernelspec": {
   "display_name": "Python 3 (ipykernel)",
   "language": "python",
   "name": "python3"
  },
  "language_info": {
   "codemirror_mode": {
    "name": "ipython",
    "version": 3
   },
   "file_extension": ".py",
   "mimetype": "text/x-python",
   "name": "python",
   "nbconvert_exporter": "python",
   "pygments_lexer": "ipython3",
   "version": "3.9.13"
  }
 },
 "nbformat": 4,
 "nbformat_minor": 5
}
