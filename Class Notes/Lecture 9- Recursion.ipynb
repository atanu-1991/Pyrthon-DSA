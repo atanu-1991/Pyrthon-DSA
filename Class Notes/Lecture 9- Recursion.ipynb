{
 "cells": [
  {
   "cell_type": "code",
   "execution_count": 1,
   "id": "cb65bf88",
   "metadata": {},
   "outputs": [],
   "source": [
    "def sumof(n):\n",
    "    if n==1:\n",
    "        return 1\n",
    "    return n + sumof(n-1)"
   ]
  },
  {
   "cell_type": "code",
   "execution_count": 2,
   "id": "1025eaa2",
   "metadata": {},
   "outputs": [
    {
     "data": {
      "text/plain": [
       "15"
      ]
     },
     "execution_count": 2,
     "metadata": {},
     "output_type": "execute_result"
    }
   ],
   "source": [
    "n=5\n",
    "sumof(5)"
   ]
  },
  {
   "cell_type": "markdown",
   "id": "66462651",
   "metadata": {},
   "source": [
    "**Question 1**\n",
    "\n",
    "The **Fibonacci numbers**, commonly denoted `F(n)` form a sequence, called the **Fibonacci sequence**, such that each number is the sum of the two preceding ones, starting from `0` and `1`. That is,\n",
    "\n",
    "F(0) = 0, F(1) = 1  \n",
    "F(n) = F(n - 1) + F(n - 2), for n > 1.  \n",
    "\n",
    "Given n, calculate F(n).\n",
    "\n",
    "**Explanation :** \n",
    "\n",
    "The Fibonacci numbers are the numbers in the following integer sequence.\n",
    "\n",
    "0, 1, 1, 2, 3, 5, 8, 13, 21, 34, 55, 89, 144, ……..\n",
    "\n",
    "In mathematical terms, the sequence Fn of Fibonacci numbers is defined by the recurrence relation\n",
    "\n",
    "Fn = Fn-1 + Fn-2  \n",
    "with seed values\n",
    "\n",
    "F0 = 0 and F1 = 1.\n",
    "\n",
    "**Time Complexity: Exponential,**\n",
    "\n",
    "as every function calls two other functions.\n",
    "\n",
    "**Auxiliary space complexity:**\n",
    "\n",
    "O(n), as the maximum depth of the recursion tree is n.\n",
    "\n",
    "**Solution :**"
   ]
  },
  {
   "cell_type": "code",
   "execution_count": 22,
   "id": "0efbecd2",
   "metadata": {},
   "outputs": [],
   "source": [
    "def fibo(n):\n",
    "    if n==0:\n",
    "        return 0\n",
    "    elif n==1:\n",
    "        return 1\n",
    "    \n",
    "    return fibo(n-1) + fibo(n-2)"
   ]
  },
  {
   "cell_type": "code",
   "execution_count": 23,
   "id": "c691bdb7",
   "metadata": {},
   "outputs": [
    {
     "data": {
      "text/plain": [
       "8"
      ]
     },
     "execution_count": 23,
     "metadata": {},
     "output_type": "execute_result"
    }
   ],
   "source": [
    "fibo(6)"
   ]
  },
  {
   "cell_type": "markdown",
   "id": "8ae87287",
   "metadata": {},
   "source": [
    "**Question 2**\n",
    "\n",
    "Given an integer `n`, return *`true` if it is a power of four. Otherwise, return `false`*.\n",
    "\n",
    "An integer `n` is a power of four, if there exists an integer `x` such that `n == 4x`.\n",
    "\n",
    "**Example 1:**  \n",
    "Input: n = 16  \n",
    "Output: true  \n",
    "\n",
    "**Example 2:**  \n",
    "Input: n = 5  \n",
    "Output: false  \n",
    "\n",
    "**Example 3:**  \n",
    "Input: n = 1  \n",
    "Output: true  \n",
    "\n",
    "**Solution :**  "
   ]
  },
  {
   "cell_type": "code",
   "execution_count": 1,
   "id": "d6e444b1",
   "metadata": {},
   "outputs": [],
   "source": [
    "def isPowerofFour(n):\n",
    "    if(n == 1):\n",
    "        return True\n",
    "    if(n <= 0 or n % 4 != 0):\n",
    "        return False\n",
    "    \n",
    "    return isPowerofFour(n//4)"
   ]
  },
  {
   "cell_type": "code",
   "execution_count": 3,
   "id": "c9d711a1",
   "metadata": {},
   "outputs": [
    {
     "data": {
      "text/plain": [
       "False"
      ]
     },
     "execution_count": 3,
     "metadata": {},
     "output_type": "execute_result"
    }
   ],
   "source": [
    "isPowerofFour(24)"
   ]
  },
  {
   "cell_type": "code",
   "execution_count": null,
   "id": "798359e9",
   "metadata": {},
   "outputs": [],
   "source": []
  }
 ],
 "metadata": {
  "kernelspec": {
   "display_name": "Python 3 (ipykernel)",
   "language": "python",
   "name": "python3"
  },
  "language_info": {
   "codemirror_mode": {
    "name": "ipython",
    "version": 3
   },
   "file_extension": ".py",
   "mimetype": "text/x-python",
   "name": "python",
   "nbconvert_exporter": "python",
   "pygments_lexer": "ipython3",
   "version": "3.9.13"
  }
 },
 "nbformat": 4,
 "nbformat_minor": 5
}
