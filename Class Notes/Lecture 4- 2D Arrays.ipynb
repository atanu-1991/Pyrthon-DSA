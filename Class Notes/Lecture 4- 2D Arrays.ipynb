{
 "cells": [
  {
   "cell_type": "markdown",
   "id": "ea69c0db",
   "metadata": {},
   "source": [
    "**Question 1**\n",
    "\n",
    "Given an m x n matrix, return all elements of the matrix in spiral order.\n",
    "\n",
    "**Example 1:**\n",
    "\n",
    "**Input:** matrix = [[1,2,3],[4,5,6],[7,8,9]]\n",
    "\n",
    "**Output:** [1,2,3,6,9,8,7,4,5]  \n",
    "  \n",
    "<img src=\"q1.png\" width=\"100\" align='left'/>  "
   ]
  },
  {
   "cell_type": "markdown",
   "id": "ac115597",
   "metadata": {},
   "source": [
    "**Solution:**   \n",
    "\n",
    "**Time Complexity:** O(n)\n",
    "\n",
    "**Space Complexity:** O(1)"
   ]
  },
  {
   "cell_type": "code",
   "execution_count": 1,
   "id": "8dbb6747",
   "metadata": {},
   "outputs": [],
   "source": [
    "def spiralOrder(matrix):\n",
    "    result = []\n",
    "    rows = len(matrix)\n",
    "    columns = len(matrix[0])\n",
    "    up = 0\n",
    "    left = 0\n",
    "    right = columns - 1\n",
    "    down = rows - 1\n",
    "    \n",
    "    while len(result) < rows * columns:\n",
    "        # Traverse From  Left To Right\n",
    "        for col in range(left, right+1):\n",
    "            result.append(matrix[up][col])\n",
    "            \n",
    "        # Traverse Downwards\n",
    "        for row in range(up+1, down+1):\n",
    "            result.append(matrix[row][right])\n",
    "            \n",
    "        # Make sure we are now on a different row.\n",
    "        if up != down:\n",
    "            # Traverse from Right to Left\n",
    "            for col in range(right-1, left-1, -1):\n",
    "                result.append(matrix[down][col])\n",
    "                \n",
    "        # Make sure we are now on a different column.\n",
    "        if left != right:\n",
    "            # Traverse Upwards\n",
    "            for row in range(down-1, up, -1):\n",
    "                result.append(matrix[row][left])\n",
    "                \n",
    "        left = left + 1\n",
    "        right = right - 1\n",
    "        up = up + 1\n",
    "        down = down - 1\n",
    "        \n",
    "    return result"
   ]
  },
  {
   "cell_type": "code",
   "execution_count": 2,
   "id": "b26d9465",
   "metadata": {},
   "outputs": [
    {
     "data": {
      "text/plain": [
       "[1, 2, 3, 6, 9, 8, 7, 4, 5]"
      ]
     },
     "execution_count": 2,
     "metadata": {},
     "output_type": "execute_result"
    }
   ],
   "source": [
    "spiralOrder([[1,2,3],[4,5,6],[7,8,9]])"
   ]
  },
  {
   "cell_type": "markdown",
   "id": "351a00a8",
   "metadata": {},
   "source": [
    "**Question 2**\n",
    "\n",
    "Given a square matrix mat, return the sum of the matrix diagonals.\n",
    "\n",
    "Only include the sum of all the elements on the primary diagonal and all the elements on the secondary diagonal that are not part of the primary diagonal.\n",
    "\n",
    "**Example 1:**  \n",
    "\n",
    "**Input:** mat = [[1,2,3], [4,5,6], [7,8,9]]\n",
    "\n",
    "**Output:** 25\n",
    "\n",
    "<img src=\"q2.png\" width=\"300\" align='left'/>"
   ]
  },
  {
   "cell_type": "markdown",
   "id": "7ad453e8",
   "metadata": {},
   "source": [
    "**Solution:**\n",
    "\n",
    "**Time Complexity:** O(n)\n",
    "\n",
    "**Space Complexity:** O(1)\n",
    "\n",
    "**Explanation:**  \n",
    "Diagonals sum: 1 + 5 + 9 + 3 + 7 = 25  \n",
    "Notice that element mat[1][1] = 5 is counted only once.  "
   ]
  },
  {
   "cell_type": "code",
   "execution_count": 8,
   "id": "b704ea3c",
   "metadata": {},
   "outputs": [],
   "source": [
    "def diagonalSum(mat):\n",
    "    n = len(mat)\n",
    "    ans = 0\n",
    "    \n",
    "    for i in range(n):\n",
    "        # Add Elements from Primary Diagonal.\n",
    "        ans = ans + mat[i][i]\n",
    "        \n",
    "        # Add Elements from Secondary Diagonal\n",
    "        ans = ans + mat[n-1-i][i]\n",
    "        \n",
    "    # If n is odd, subtract the middle element as it's added twice\n",
    "    if n%2 != 0:\n",
    "        ans = ans - mat[n//2][n//2]\n",
    "            \n",
    "    return ans"
   ]
  },
  {
   "cell_type": "code",
   "execution_count": 9,
   "id": "f534b49f",
   "metadata": {},
   "outputs": [
    {
     "data": {
      "text/plain": [
       "25"
      ]
     },
     "execution_count": 9,
     "metadata": {},
     "output_type": "execute_result"
    }
   ],
   "source": [
    "mat = [[1,2,3], [4,5,6], [7,8,9]]\n",
    "diagonalSum(mat)"
   ]
  },
  {
   "cell_type": "markdown",
   "id": "7c5db4fe",
   "metadata": {},
   "source": [
    "**Question 3**\n",
    "\n",
    "Given a m x n matrix grid which is sorted in non-increasing order both row-wise and column-wise, return *the number of negative numbers in* grid.\n",
    "\n",
    "**Example 1:**\n",
    "\n",
    "**Input:** grid = [[4,3,2,-1],[3,2,1,-1],[1,1,-1,-2],[-1,-1,-2,-3]]\n",
    "\n",
    "**Output:** 8\n",
    "\n",
    "**Explanation:** There are 8 negatives number in the matrix.\n",
    "\n",
    "**Time Complexity:** O(m*n)\n",
    "\n",
    "**Space Complexity:** O(1)"
   ]
  },
  {
   "cell_type": "code",
   "execution_count": 1,
   "id": "a44d50ec",
   "metadata": {},
   "outputs": [],
   "source": [
    "def countNegatives(grid):\n",
    "    count = 0\n",
    "    n = len(grid[0])\n",
    "    currRowNegativeIndex = n-1\n",
    "    \n",
    "    for row in grid:\n",
    "        while currRowNegativeIndex >= 0 and row[currRowNegativeIndex] < 0:\n",
    "            currRowNegativeIndex = currRowNegativeIndex - 1\n",
    "        count = count + (n - (currRowNegativeIndex + 1))\n",
    "        \n",
    "    return count"
   ]
  },
  {
   "cell_type": "code",
   "execution_count": 2,
   "id": "28e85506",
   "metadata": {},
   "outputs": [
    {
     "data": {
      "text/plain": [
       "8"
      ]
     },
     "execution_count": 2,
     "metadata": {},
     "output_type": "execute_result"
    }
   ],
   "source": [
    "grid = [[4,3,2,-1],[3,2,1,-1],[1,1,-1,-2],[-1,-1,-2,-3]]\n",
    "countNegatives(grid)"
   ]
  },
  {
   "cell_type": "markdown",
   "id": "2243e40a",
   "metadata": {},
   "source": [
    "**Question 4**\n",
    "\n",
    "You are given an m x n integer grid accounts where accounts[i][j] is the amount of money the ith customer has in the jth bank. Return *the wealth that the richest customer has.*\n",
    "\n",
    "A customer's wealth is the amount of money they have in all their bank accounts. The richest customer is the customer that has the maximum wealth.\n",
    "\n",
    "**Example 1:**\n",
    "\n",
    "**Input:** accounts = [[1,2,3],[3,2,1]]\n",
    "\n",
    "**Output:** 6\n",
    "\n",
    "**Explanation:**\n",
    "\n",
    "1st customer has wealth = 1 + 2 + 3 = 6\n",
    "\n",
    "2nd customer has wealth = 3 + 2 + 1 = 6\n",
    "\n",
    "Both customers are considered the richest with a wealth of 6 each, so return 6.\n",
    "\n",
    "**Solution:**\n",
    "\n",
    "**Time Complexity:** O(m*n)\n",
    "\n",
    "**Space Complexity:** O(1)"
   ]
  },
  {
   "cell_type": "code",
   "execution_count": 3,
   "id": "dde18d2c",
   "metadata": {},
   "outputs": [],
   "source": [
    "def maximumWealth(accounts):\n",
    "    maxWealthSoFar = 0\n",
    "    \n",
    "    for account in accounts:\n",
    "        currCustomerWealth = sum(account)\n",
    "        maxWealthSoFar = max(maxWealthSoFar, currCustomerWealth)\n",
    "        \n",
    "    return maxWealthSoFar"
   ]
  },
  {
   "cell_type": "code",
   "execution_count": 4,
   "id": "a3ad7ce1",
   "metadata": {},
   "outputs": [
    {
     "data": {
      "text/plain": [
       "6"
      ]
     },
     "execution_count": 4,
     "metadata": {},
     "output_type": "execute_result"
    }
   ],
   "source": [
    "accounts = [[1,2,3],[3,2,1]]\n",
    "maximumWealth(accounts)"
   ]
  },
  {
   "cell_type": "code",
   "execution_count": null,
   "id": "f73d0e86",
   "metadata": {},
   "outputs": [],
   "source": []
  }
 ],
 "metadata": {
  "kernelspec": {
   "display_name": "Python 3 (ipykernel)",
   "language": "python",
   "name": "python3"
  },
  "language_info": {
   "codemirror_mode": {
    "name": "ipython",
    "version": 3
   },
   "file_extension": ".py",
   "mimetype": "text/x-python",
   "name": "python",
   "nbconvert_exporter": "python",
   "pygments_lexer": "ipython3",
   "version": "3.9.13"
  }
 },
 "nbformat": 4,
 "nbformat_minor": 5
}
