{
 "cells": [
  {
   "cell_type": "markdown",
   "id": "ea614075",
   "metadata": {},
   "source": [
    "Resource: https://pwskills.notion.site/Class-Notes-5-3e13a80e9b9d45b8b1d830c9ae91252c"
   ]
  },
  {
   "cell_type": "markdown",
   "id": "fa2e9041",
   "metadata": {},
   "source": [
    "**Question 1**\n",
    "\n",
    "Given an m x n matrix, return true if the matrix is Toeplitz. Otherwise, return false. A matrix is Toeplitz if every diagonal from top-left to bottom-right has the same elements.\n",
    "\n",
    "<img src=\"q5.1.png\" width=\"100\" align='left'/>"
   ]
  },
  {
   "cell_type": "markdown",
   "id": "11eccafe",
   "metadata": {},
   "source": [
    "**Example 1:**\n",
    "\n",
    "**Input:** matrix = [[1,2,3,4],[5,1,2,3],[9,5,1,2]]\n",
    "\n",
    "**Output:** true\n",
    "\n",
    "**Explanation:**\n",
    "\n",
    "In the above grid, the diagonals are: \"[9]\", \"[5, 5]\", \"[1, 1, 1]\", \"[2, 2, 2]\", \"[3, 3]\", \"[4]\".\n",
    "\n",
    "In each diagonal all elements are the same, so the answer is True.\n",
    "\n",
    "**Solution:**\n",
    "\n",
    "<img src=\"q5.1.1.png\" width=\"500\" align='left'/>"
   ]
  },
  {
   "cell_type": "markdown",
   "id": "866b5752",
   "metadata": {},
   "source": [
    "**Time Complexity:** O(M∗N), as defined in the problem statement.\n",
    "\n",
    "**Space Complexity:** O(1)."
   ]
  },
  {
   "cell_type": "code",
   "execution_count": 4,
   "id": "4a032a22",
   "metadata": {},
   "outputs": [],
   "source": [
    "def isToeplitzMatrix(matrix):\n",
    "    \n",
    "    for r in range(len(matrix)):\n",
    "        \n",
    "        for c in range(len(matrix[0])):\n",
    "            \n",
    "            if r>0 and c>0 and matrix[r-1][c-1] != matrix[r][c]:\n",
    "                return False\n",
    "            \n",
    "    return True"
   ]
  },
  {
   "cell_type": "code",
   "execution_count": 6,
   "id": "3d6e381b",
   "metadata": {},
   "outputs": [
    {
     "data": {
      "text/plain": [
       "True"
      ]
     },
     "execution_count": 6,
     "metadata": {},
     "output_type": "execute_result"
    }
   ],
   "source": [
    "matrix = [[1,2,3,4],[5,1,2,3],[9,5,1,2]]\n",
    "isToeplitzMatrix(matrix)"
   ]
  },
  {
   "cell_type": "code",
   "execution_count": 7,
   "id": "c0c21531",
   "metadata": {},
   "outputs": [
    {
     "data": {
      "text/plain": [
       "False"
      ]
     },
     "execution_count": 7,
     "metadata": {},
     "output_type": "execute_result"
    }
   ],
   "source": [
    "matrix = [[1,2],[2,2]]\n",
    "isToeplitzMatrix(matrix)"
   ]
  },
  {
   "cell_type": "markdown",
   "id": "1644b274",
   "metadata": {},
   "source": [
    "**Question 2**\n",
    "\n",
    "Given a 2D integer array matrix, return *the **transpose** of* matrix.\n",
    "\n",
    "The **transpose** of a matrix is the matrix flipped over its main diagonal, switching the matrix's row and column indices.\n",
    "\n",
    "<img src=\"q5.2.png\" width=\"500\" align='left'/>"
   ]
  },
  {
   "cell_type": "markdown",
   "id": "d7b7af77",
   "metadata": {},
   "source": [
    "**Example 1:**\n",
    "\n",
    "**Input:** matrix = [[1,2,3],[4,5,6],[7,8,9]]\n",
    "\n",
    "**Output:**\n",
    "\n",
    "[[1,4,7],[2,5,8],[3,6,9]]\n",
    "\n",
    "**Solution:**\n",
    "\n",
    "**Intuition**\n",
    "\n",
    "Observe how the cells move in groups when we rotate the image.\n",
    "\n",
    "<img src=\"q5.3.png\" width=\"500\" align='left'/>"
   ]
  },
  {
   "cell_type": "markdown",
   "id": "8a32c843",
   "metadata": {},
   "source": [
    "We can iterate over each group of four cells and rotate them.\n",
    "\n",
    "**Complexity Analysis**\n",
    "\n",
    "Let *M* be the number of cells in the matrix.\n",
    "\n",
    "**Time Complexity:** O(*M*), as each cell is getting read once and written once.\n",
    "\n",
    "**Space complexity:** O(1) because we do not use any other additional data structures."
   ]
  },
  {
   "cell_type": "code",
   "execution_count": 4,
   "id": "30aac195",
   "metadata": {},
   "outputs": [],
   "source": [
    "def transpose(A):\n",
    "    R = len(A)\n",
    "    C = len(A[0])\n",
    "    ans = [[0 for _ in range(R)] for _ in range(C)]\n",
    "    \n",
    "    for r in range(R):\n",
    "        for c in range(C):\n",
    "            ans[c][r] = A[r][c]\n",
    "            \n",
    "    return ans"
   ]
  },
  {
   "cell_type": "code",
   "execution_count": 6,
   "id": "2cbbb4fd",
   "metadata": {},
   "outputs": [
    {
     "data": {
      "text/plain": [
       "[[1, 4, 7], [2, 5, 8], [3, 6, 9], [4, 7, 10]]"
      ]
     },
     "execution_count": 6,
     "metadata": {},
     "output_type": "execute_result"
    }
   ],
   "source": [
    "matrix = [[1,2,3,4],[4,5,6,7],[7,8,9,10]]\n",
    "transpose(matrix)"
   ]
  },
  {
   "cell_type": "markdown",
   "id": "50cc09c1",
   "metadata": {},
   "source": [
    "**Question 3**\n",
    "\n",
    "You are given an n x n 2D matrix representing an image, rotate the image by **90** degrees (clockwise).\n",
    "\n",
    "You have to rotate the image **[in-place](https://en.wikipedia.org/wiki/In-place_algorithm)**, which means you have to modify the input 2D matrix directly. **DO NOT** allocate another 2D matrix and do the rotation.\n",
    "\n",
    "**Example 1:**\n",
    "\n",
    "<img src=\"q5.4.png\" width=\"500\" align='left'/>"
   ]
  },
  {
   "cell_type": "markdown",
   "id": "339a297f",
   "metadata": {},
   "source": [
    "**Input:** matrix = [[1,2,3],[4,5,6],[7,8,9]]\n",
    "\n",
    "**Output:** [[7,4,1],[8,5,2],[9,6,3]]\n",
    "\n",
    "**Solution:**\n",
    "\n",
    "**Intuition and Algorithm**\n",
    "\n",
    "The transpose of a matrix A with dimensions R x C is a matrix *ans* with dimensions C x R for which ans[c][r] = A[r][c].\n",
    "\n",
    "We initialize a new matrix *ans* representing the answer. Then, we'll copy each entry of the matrix as appropriate.\n",
    "\n",
    "**Complexity Analysis**\n",
    "\n",
    "**Time Complexity:** *O*(*R*∗*C*), where *R* and *C* are the number of rows and columns in the given matrix A.\n",
    "\n",
    "**Space Complexity:** *O*(*R*∗*C*), the space used by the answer."
   ]
  },
  {
   "cell_type": "code",
   "execution_count": 21,
   "id": "6ac6bb7f",
   "metadata": {},
   "outputs": [],
   "source": [
    "def transpose(matrix):\n",
    "    n = len(matrix)\n",
    "    for i in range(n):\n",
    "        for j in range(i+1,n):\n",
    "            temp = matrix[i][j]\n",
    "            matrix[i][j] = matrix[j][i]\n",
    "            matrix[j][i] = temp\n",
    "            \n",
    "    return matrix"
   ]
  },
  {
   "cell_type": "code",
   "execution_count": 22,
   "id": "53c14eb7",
   "metadata": {},
   "outputs": [],
   "source": [
    "def reverse(matrix):\n",
    "    n = len(matrix)\n",
    "    for i in range(n):\n",
    "        for j in range(n//2):\n",
    "            temp = matrix[i][j]\n",
    "            matrix[i][j] = matrix[i][n-j-1]\n",
    "            matrix[i][n-j-1] = temp\n",
    "            \n",
    "    return matrix"
   ]
  },
  {
   "cell_type": "code",
   "execution_count": 23,
   "id": "a7b31987",
   "metadata": {},
   "outputs": [],
   "source": [
    "def rotate(matrix):\n",
    "    transpose_matrix = transpose(matrix)\n",
    "    reverse_matrix = reverse(transpose_matrix)\n",
    "    return reverse_matrix"
   ]
  },
  {
   "cell_type": "code",
   "execution_count": 24,
   "id": "cbccbaee",
   "metadata": {},
   "outputs": [
    {
     "data": {
      "text/plain": [
       "[[15, 13, 2, 5], [14, 3, 4, 1], [12, 6, 8, 9], [16, 7, 10, 11]]"
      ]
     },
     "execution_count": 24,
     "metadata": {},
     "output_type": "execute_result"
    }
   ],
   "source": [
    "matrix = [[5,1,9,11],[2,4,8,10],[13,3,6,7],[15,14,12,16]]\n",
    "rotate(matrix)"
   ]
  },
  {
   "cell_type": "code",
   "execution_count": 28,
   "id": "d12b1589",
   "metadata": {},
   "outputs": [],
   "source": [
    "# Alternate Method\n",
    "def rotate_matrix(matrix):\n",
    "    n = len(matrix)\n",
    "    for i in range((n + 1) // 2):\n",
    "        for j in range(n // 2):\n",
    "            temp = matrix[n - 1 -j][i]\n",
    "            matrix[n - 1 -j][i] = matrix[n - 1 - i][n - j - 1]\n",
    "            matrix[n - 1 - i][n - j - 1] = matrix[j][n - 1 - i]\n",
    "            matrix[j][n - 1 - i] = matrix[i][j]\n",
    "            matrix[i][j] = temp\n",
    "            \n",
    "    return matrix"
   ]
  },
  {
   "cell_type": "code",
   "execution_count": 29,
   "id": "0a4f6d18",
   "metadata": {},
   "outputs": [
    {
     "data": {
      "text/plain": [
       "[[15, 13, 2, 5], [14, 3, 4, 1], [12, 6, 8, 9], [16, 7, 10, 11]]"
      ]
     },
     "execution_count": 29,
     "metadata": {},
     "output_type": "execute_result"
    }
   ],
   "source": [
    "matrix = [[5,1,9,11],[2,4,8,10],[13,3,6,7],[15,14,12,16]]\n",
    "rotate_matrix(matrix)"
   ]
  },
  {
   "cell_type": "markdown",
   "id": "53b486b0",
   "metadata": {},
   "source": [
    "**Question 4**\n",
    "\n",
    "Given a non-empty array of non-negative integers nums, the **degree** of this array is defined as the maximum frequency of any one of its elements.\n",
    "\n",
    "Your task is to find the smallest possible length of a (contiguous) subarray of nums, that has the same degree as nums.\n",
    "\n",
    "**Example 1:**\n",
    "\n",
    "**Input:** nums = [1,2,2,3,1]\n",
    "\n",
    "**Output:** 2\n",
    "\n",
    "**Explanation:**\n",
    "\n",
    "The input array has a degree of 2 because both elements 1 and 2 appear twice.\n",
    "\n",
    "Of the subarrays that have the same degree:\n",
    "\n",
    "[1, 2, 2, 3, 1], [1, 2, 2, 3], [2, 2, 3, 1], [1, 2, 2], [2, 2, 3], [2, 2]\n",
    "\n",
    "The shortest length is 2. So return 2.\n",
    "\n",
    "**Complexity Analysis**\n",
    "\n",
    "- Time Complexity: O(m*n)\n",
    "- Space Complexity: O(1)\n",
    "\n",
    "**Solution:**"
   ]
  },
  {
   "cell_type": "code",
   "execution_count": 13,
   "id": "ebaaea9f",
   "metadata": {},
   "outputs": [],
   "source": [
    "def findShortestSubArray(nums):\n",
    "    # Initialize Variable\n",
    "    degree = 0\n",
    "    degree_nums = {}\n",
    "    left = {}\n",
    "    right = {}\n",
    "    shortest = len(nums)\n",
    "    left_index = 0\n",
    "    right_index = 0\n",
    "    \n",
    "    # Traverse through Array\n",
    "    for i, num in enumerate(nums):\n",
    "        \n",
    "        # Update degree and degree_nums\n",
    "        if num in degree_nums:\n",
    "            degree_nums[num] = degree_nums[num] + 1\n",
    "        else:\n",
    "            degree_nums[num] = 1\n",
    "        \n",
    "        degree = max(degree, degree_nums[num])\n",
    "            \n",
    "        # Update Left and Right\n",
    "        if num not in left:\n",
    "            left[num] = i\n",
    "            \n",
    "        right[num] = i\n",
    "        \n",
    "    # Find the shortest subarray with degree\n",
    "    for num, freq in degree_nums.items():\n",
    "        if freq == degree:\n",
    "            shortest = min(shortest, right[num] - left[num] + 1)\n",
    "            left_index = left[num]\n",
    "            right_index = right[num]\n",
    "    \n",
    "    print(degree_nums)\n",
    "    print(left)\n",
    "    print(right)\n",
    "    print(nums[left_index:right_index+1])\n",
    "    # Return the shortest subarray length\n",
    "    return shortest"
   ]
  },
  {
   "cell_type": "code",
   "execution_count": 14,
   "id": "176fe4f6",
   "metadata": {},
   "outputs": [
    {
     "name": "stdout",
     "output_type": "stream",
     "text": [
      "{1: 2, 2: 3, 3: 1, 4: 1}\n",
      "{1: 0, 2: 1, 3: 3, 4: 5}\n",
      "{1: 4, 2: 6, 3: 3, 4: 5}\n",
      "[2, 2, 3, 1, 4, 2]\n"
     ]
    },
    {
     "data": {
      "text/plain": [
       "6"
      ]
     },
     "execution_count": 14,
     "metadata": {},
     "output_type": "execute_result"
    }
   ],
   "source": [
    "nums = [1,2,2,3,1,4,2]\n",
    "findShortestSubArray(nums)"
   ]
  },
  {
   "cell_type": "code",
   "execution_count": null,
   "id": "58288fe8",
   "metadata": {},
   "outputs": [],
   "source": []
  }
 ],
 "metadata": {
  "kernelspec": {
   "display_name": "Python 3 (ipykernel)",
   "language": "python",
   "name": "python3"
  },
  "language_info": {
   "codemirror_mode": {
    "name": "ipython",
    "version": 3
   },
   "file_extension": ".py",
   "mimetype": "text/x-python",
   "name": "python",
   "nbconvert_exporter": "python",
   "pygments_lexer": "ipython3",
   "version": "3.9.13"
  }
 },
 "nbformat": 4,
 "nbformat_minor": 5
}
