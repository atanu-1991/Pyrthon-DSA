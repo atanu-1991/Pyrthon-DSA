{
 "cells": [
  {
   "cell_type": "markdown",
   "id": "5cf16dc1",
   "metadata": {},
   "source": [
    "Resource: https://pwskills.notion.site/Class-Notes-6-da74d181e91c4d169685501784e44b5d"
   ]
  },
  {
   "cell_type": "markdown",
   "id": "e52a54f5",
   "metadata": {},
   "source": [
    "**Question 1**\n",
    "\n",
    "Given an m x n integer matrix matrix, if an element is 0, set its entire row and column to 0's.\n",
    "\n",
    "You must do it [in place](https://en.wikipedia.org/wiki/In-place_algorithm).\n",
    "\n",
    "**Example 1:**\n",
    "\n",
    "<img src=\"q6.1.png\" width=\"400\" align='left'/>"
   ]
  },
  {
   "cell_type": "markdown",
   "id": "b2e789ca",
   "metadata": {},
   "source": [
    "**Input:** matrix = [[1,1,1],[1,0,1],[1,1,1]]\n",
    "\n",
    "**Output:** [[1,0,1],[0,0,0],[1,0,1]]\n",
    "\n",
    "**Solution:**\n",
    "\n",
    "<img src=\"q6.1.1.png\" width=\"500\" align='left'/>"
   ]
  },
  {
   "cell_type": "markdown",
   "id": "9a6211d2",
   "metadata": {},
   "source": [
    "**Complexity Analysis**\n",
    "\n",
    "- **Time Complexity:** *O*(*M*×*N*)\n",
    "- **Space Complexity:** *O*(1)"
   ]
  },
  {
   "cell_type": "code",
   "execution_count": 1,
   "id": "e67f5a4c",
   "metadata": {},
   "outputs": [],
   "source": [
    "def setZeroes(matrix):\n",
    "    isCol = False\n",
    "    R = len(matrix)\n",
    "    C = len(matrix[0])\n",
    "    \n",
    "    for i in range(R):\n",
    "        \n",
    "        if matrix[i][0] == 0:\n",
    "            isCol = True\n",
    "            \n",
    "        for j in range(1, C):\n",
    "            if matrix[i][j] == 0:\n",
    "                matrix[0][j]=0\n",
    "                matrix[i][0]=0\n",
    "                \n",
    "    for i in range(1, R):\n",
    "        for j in range(1, C):\n",
    "            if matrix[i][0] == 0 or matrix[0][j] == 0:\n",
    "                matrix[i][j] = 0\n",
    "                \n",
    "    \n",
    "    if matrix[0][0] == 0:\n",
    "        for j in range(C):\n",
    "            matrix[0][j] = 0\n",
    "            \n",
    "    if isCol:\n",
    "        for i in range(R):\n",
    "            matrix[i][0] = 0\n",
    "            \n",
    "    return matrix"
   ]
  },
  {
   "cell_type": "code",
   "execution_count": 2,
   "id": "28daf189",
   "metadata": {},
   "outputs": [
    {
     "data": {
      "text/plain": [
       "[[1, 0, 1], [0, 0, 0], [1, 0, 1]]"
      ]
     },
     "execution_count": 2,
     "metadata": {},
     "output_type": "execute_result"
    }
   ],
   "source": [
    "matrix = [[1,1,1],[1,0,1],[1,1,1]]\n",
    "setZeroes(matrix)"
   ]
  },
  {
   "cell_type": "markdown",
   "id": "3f545356",
   "metadata": {},
   "source": [
    "**Question 2**\n",
    "\n",
    "In MATLAB, there is a handy function called reshape which can reshape an m x n matrix into a new one with a different size r x c keeping its original data.\n",
    "\n",
    "You are given an m x n matrix mat and two integers r and c representing the number of rows and the number of columns of the wanted reshaped matrix.\n",
    "\n",
    "The reshaped matrix should be filled with all the elements of the original matrix in the same row-traversing order as they were.\n",
    "\n",
    "If the reshape operation with given parameters is possible and legal, output the new reshaped matrix; Otherwise, output the original matrix.\n",
    "\n",
    "**Example 1:**\n",
    "\n",
    "<img src=\"q6.2.png\" width=\"500\" align='left'/>"
   ]
  },
  {
   "cell_type": "markdown",
   "id": "7027f2c1",
   "metadata": {},
   "source": [
    "**Input:** mat = [[1,2],[3,4]], r = 1, c = 4\n",
    "\n",
    "**Output:** [[1,2,3,4]]\n",
    "\n",
    "**Solution:**\n",
    "\n",
    "The simplest method is to extract all the elements of the given matrix by reading the elements in a row-wise fashion. In this implementation, we use a queue to put the extracted elements. Then, we can take out the elements of the queue formed in a serial order and arrange the elements in the resultant required matrix in a row-by-row order again.\n",
    "\n",
    "The formation of the resultant matrix won't be possible if the number of elements in the original matrix isn't equal to the number of elements in the resultant matrix.\n",
    "\n",
    "**Complexity Analysis**\n",
    "\n",
    "- **Time complexity:** *O*(*m*⋅*n*). We traverse over *m*⋅*n* elements twice. Here, *m* and *n* refer to the number of rows and columns of the given matrix respectively.\n",
    "- **Space complexity:** *O*(*m*⋅*n*). The queue formed will be of size *m*⋅*n*."
   ]
  },
  {
   "cell_type": "code",
   "execution_count": 7,
   "id": "4bf8fe02",
   "metadata": {},
   "outputs": [],
   "source": [
    "# Approach-1\n",
    "def matrixReshape(nums, r, c):\n",
    "    count = 0\n",
    "    res = [[0] * c for _ in range(r)]\n",
    "    \n",
    "    if len(nums) == 0 or r*c != len(nums) * len(nums[0]):\n",
    "        return nums\n",
    "    \n",
    "    for i in range(len(nums)):\n",
    "        for j in range(len(nums[0])):\n",
    "            res[count//c][count%c] = nums[i][j]\n",
    "            count = count + 1\n",
    "            \n",
    "    return res"
   ]
  },
  {
   "cell_type": "code",
   "execution_count": 8,
   "id": "6562f71b",
   "metadata": {},
   "outputs": [
    {
     "data": {
      "text/plain": [
       "[[1, 2, 3, 4]]"
      ]
     },
     "execution_count": 8,
     "metadata": {},
     "output_type": "execute_result"
    }
   ],
   "source": [
    "mat = [[1,2],[3,4]]\n",
    "r = 1\n",
    "c = 4\n",
    "matrixReshape(mat, r, c)"
   ]
  },
  {
   "cell_type": "code",
   "execution_count": 13,
   "id": "491f0b32",
   "metadata": {},
   "outputs": [],
   "source": [
    "# Approach-2\n",
    "def matrixReshape(nums, r, c):\n",
    "    res = [[0] * c for _ in range(r)]\n",
    "    row = 0\n",
    "    col = 0\n",
    "    \n",
    "    if len(nums) == 0 or r*c != len(nums) * len(nums[0]):\n",
    "        return nums\n",
    "    \n",
    "    for i in range(len(nums)):\n",
    "        \n",
    "        for j in range(len(nums[0])):\n",
    "            \n",
    "            res[row][col] = nums[i][j]\n",
    "            col = col + 1\n",
    "            \n",
    "            if (col==c):\n",
    "                row = row + 1\n",
    "                col = 0\n",
    "                \n",
    "    return res"
   ]
  },
  {
   "cell_type": "code",
   "execution_count": 14,
   "id": "67ba017e",
   "metadata": {},
   "outputs": [
    {
     "data": {
      "text/plain": [
       "[[1, 2], [3, 4], [5, 6]]"
      ]
     },
     "execution_count": 14,
     "metadata": {},
     "output_type": "execute_result"
    }
   ],
   "source": [
    "mat = [[1,2,3],[4,5,6]]\n",
    "r = 3\n",
    "c = 2\n",
    "matrixReshape(mat, r, c)"
   ]
  },
  {
   "cell_type": "code",
   "execution_count": 16,
   "id": "dda123bc",
   "metadata": {},
   "outputs": [],
   "source": [
    "# Approach-3\n",
    "from collections import deque\n",
    "\n",
    "def matrixReshape(nums, r, c):\n",
    "    res = [[0] * c for _ in range(r)]\n",
    "    \n",
    "    if len(nums)==0 or r*c != len(nums)*len(nums[0]):\n",
    "        return nums\n",
    "    \n",
    "    queue = deque()\n",
    "    \n",
    "    for i in range(len(nums)):\n",
    "        for j in range(len(nums[0])):\n",
    "            queue.append(nums[i][j])\n",
    "            \n",
    "    for i in range(r):\n",
    "        for j in range(c):\n",
    "            res[i][j] = queue.popleft()\n",
    "            \n",
    "    return res\n",
    "    "
   ]
  },
  {
   "cell_type": "code",
   "execution_count": 17,
   "id": "5975770b",
   "metadata": {},
   "outputs": [
    {
     "data": {
      "text/plain": [
       "[[1, 2, 3, 4]]"
      ]
     },
     "execution_count": 17,
     "metadata": {},
     "output_type": "execute_result"
    }
   ],
   "source": [
    "mat = [[1,2],[3,4]]\n",
    "r = 1\n",
    "c = 4\n",
    "matrixReshape(mat, r, c)"
   ]
  },
  {
   "cell_type": "markdown",
   "id": "d4ecaa5c",
   "metadata": {},
   "source": [
    "**Question 3**\n",
    "\n",
    "Given an n x n binary matrix image, flip the image **horizontally**, then invert it, and return *the resulting image*.\n",
    "\n",
    "To flip an image horizontally means that each row of the image is reversed.\n",
    "\n",
    "- For example, flipping [1,1,0] horizontally results in [0,1,1].\n",
    "\n",
    "To invert an image means that each 0 is replaced by 1, and each 1 is replaced by 0.\n",
    "\n",
    "- For example, inverting [0,1,1] results in [1,0,0].\n",
    "\n",
    "**Example 1:**\n",
    "\n",
    "**Input:** image = [[1,1,0],[1,0,1],[0,0,0]]\n",
    "\n",
    "**Output:** [[1,0,0],[0,1,0],[1,1,1]]\n",
    "\n",
    "**Explanation:** First reverse each row: [[0,1,1],[1,0,1],[0,0,0]].\n",
    "\n",
    "Then, invert the image: [[1,0,0],[0,1,0],[1,1,1]]\n",
    "\n",
    "**Solution:**\n",
    "\n",
    "**Intuition and Algorithm**\n",
    "\n",
    "We can do this in place. In each row, the ith value from the left is equal to the inverse of the ith value from the right.\n",
    "\n",
    "We use (C+1) / 2 (with floor division) to iterate over all indexes i in the first half of the row, including the center.\n",
    "\n",
    "**Complexity Analysis**\n",
    "\n",
    "**Time Complexity:** *O*(*N*), where N is the total number of elements in A.\n",
    "\n",
    "**Space Complexity:** *O*(1) in *additional* space complexity."
   ]
  },
  {
   "cell_type": "code",
   "execution_count": 1,
   "id": "264ae646",
   "metadata": {},
   "outputs": [],
   "source": [
    "def flipAndInvertImage(A):\n",
    "    C = len(A[0])\n",
    "    \n",
    "    for row in A:\n",
    "        for i in range((C+1)//2):\n",
    "            tmp = row[i] ^ 1\n",
    "            row[i] = row[C-1-i] ^ 1\n",
    "            row[C-1-i] = tmp\n",
    "            \n",
    "    return A"
   ]
  },
  {
   "cell_type": "code",
   "execution_count": 2,
   "id": "d7648e9f",
   "metadata": {},
   "outputs": [
    {
     "data": {
      "text/plain": [
       "[[1, 0, 0], [0, 1, 0], [1, 1, 1]]"
      ]
     },
     "execution_count": 2,
     "metadata": {},
     "output_type": "execute_result"
    }
   ],
   "source": [
    "image = [[1,1,0],[1,0,1],[0,0,0]]\n",
    "flipAndInvertImage(image)"
   ]
  },
  {
   "cell_type": "code",
   "execution_count": 3,
   "id": "ed92d8f2",
   "metadata": {},
   "outputs": [
    {
     "data": {
      "text/plain": [
       "[[0, 1, 0, 0]]"
      ]
     },
     "execution_count": 3,
     "metadata": {},
     "output_type": "execute_result"
    }
   ],
   "source": [
    "image = [[1,1,0,1]]\n",
    "flipAndInvertImage(image)"
   ]
  },
  {
   "cell_type": "code",
   "execution_count": null,
   "id": "801807e4",
   "metadata": {},
   "outputs": [],
   "source": []
  },
  {
   "cell_type": "code",
   "execution_count": null,
   "id": "01e70574",
   "metadata": {},
   "outputs": [],
   "source": []
  }
 ],
 "metadata": {
  "kernelspec": {
   "display_name": "Python 3 (ipykernel)",
   "language": "python",
   "name": "python3"
  },
  "language_info": {
   "codemirror_mode": {
    "name": "ipython",
    "version": 3
   },
   "file_extension": ".py",
   "mimetype": "text/x-python",
   "name": "python",
   "nbconvert_exporter": "python",
   "pygments_lexer": "ipython3",
   "version": "3.9.13"
  }
 },
 "nbformat": 4,
 "nbformat_minor": 5
}
