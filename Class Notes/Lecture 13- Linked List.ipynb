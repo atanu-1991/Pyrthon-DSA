{
 "cells": [
  {
   "cell_type": "markdown",
   "id": "f8a87a6e",
   "metadata": {},
   "source": [
    "**Question 1: Merge Two Sorted Linked List**\n",
    "\n",
    "You are given the heads of two sorted linked lists `list1` and `list2`.\n",
    "\n",
    "Merge the two lists in a one **sorted** list. The list should be made by splicing together the nodes of the first two lists.\n",
    "\n",
    "Return *the head of the merged linked list*.\n",
    "\n",
    "**Example 1:**\n",
    "\n",
    "<img src=\"q13.1.1.jpg\" width=\"500\" align='left'/>"
   ]
  },
  {
   "cell_type": "markdown",
   "id": "6faeaeee",
   "metadata": {},
   "source": [
    "Input: list1 = [1,2,4], list2 = [1,3,4]  \n",
    "Output: [1,1,2,3,4,4]  \n",
    "\n",
    "**Example 2:**\n",
    "Input: list1 = [], list2 = []  \n",
    "Output: []  \n",
    "\n",
    "**Example 3:**\n",
    "Input: list1 = [], list2 = [0]  \n",
    "Output: [0]  \n",
    "\n",
    "**Solution :**"
   ]
  },
  {
   "cell_type": "code",
   "execution_count": 2,
   "id": "fc189d81",
   "metadata": {},
   "outputs": [
    {
     "name": "stdout",
     "output_type": "stream",
     "text": [
      "First Linked List:\n",
      "1 2 4 \n",
      "Second Linked List:\n",
      "1 3 4 \n",
      "After Merging Two Linked List:\n",
      "1 1 2 3 4 4 \n"
     ]
    }
   ],
   "source": [
    "class ListNode:\n",
    "    def __init__(self, val=0, next=None):\n",
    "        self.val = val\n",
    "        self.next = next\n",
    "        \n",
    "\n",
    "def mergeTwoList(l1, l2):\n",
    "    if not l1:\n",
    "        return l2\n",
    "    if not l2:\n",
    "        return l1\n",
    "    \n",
    "    if (l1.val <= l2.val):\n",
    "        l1.next = mergeTwoList(l1.next, l2)\n",
    "        return l1\n",
    "    else:\n",
    "        l2.next = mergeTwoList(l1, l2.next)\n",
    "        return l2\n",
    "    \n",
    "# Test The Code\n",
    "def printLinkedList(head):\n",
    "    current = head\n",
    "    while current:\n",
    "        print(current.val, end=\" \")\n",
    "        current = current.next\n",
    "        \n",
    "    print()\n",
    "    \n",
    "# Create the First linked list [1, 2, 4]\n",
    "head = ListNode(1)\n",
    "head.next = ListNode(2)\n",
    "head.next.next = ListNode(4)\n",
    "\n",
    "# Create the Second linked list [1, 3, 4]\n",
    "head2 = ListNode(1)\n",
    "head2.next = ListNode(3)\n",
    "head2.next.next = ListNode(4)\n",
    "\n",
    "print(\"First Linked List:\")\n",
    "printLinkedList(head)\n",
    "print(\"Second Linked List:\")\n",
    "printLinkedList(head2)\n",
    "\n",
    "head = mergeTwoList(head, head2)\n",
    "\n",
    "print(\"After Merging Two Linked List:\")\n",
    "printLinkedList(head)"
   ]
  },
  {
   "cell_type": "markdown",
   "id": "b3fdc24b",
   "metadata": {},
   "source": [
    "**Question 2**\n",
    "\n",
    "Given the `head` of a singly linked list, return *the middle node of the linked list*.\n",
    "\n",
    "If there are two middle nodes, return **the second middle** node.\n",
    "\n",
    "**Example 1:**\n",
    "    \n",
    "<img src=\"q13.2.1.jpg\" width=\"500\" align='left'/>"
   ]
  },
  {
   "cell_type": "markdown",
   "id": "cf2cbe0b",
   "metadata": {},
   "source": [
    "Input: head = [1,2,3,4,5]\n",
    "Output: [3,4,5]\n",
    "Explanation: The middle node of the list is node 3.\n",
    "\n",
    "**Example 2:**\n",
    "    \n",
    "<img src=\"q13.2.2.jpg\" width=\"500\" align='left'/>"
   ]
  },
  {
   "cell_type": "markdown",
   "id": "36db1373",
   "metadata": {},
   "source": [
    "Input: head = [1,2,3,4,5,6]\n",
    "Output: [4,5,6]\n",
    "Explanation: Since the list has two middle nodes with values 3 and 4, we return the second one.\n",
    "\n",
    "**Solution :**"
   ]
  },
  {
   "cell_type": "code",
   "execution_count": 4,
   "id": "b52a4ceb",
   "metadata": {},
   "outputs": [
    {
     "name": "stdout",
     "output_type": "stream",
     "text": [
      "Original Linked List:\n",
      "1 2 3 4 5 6 \n",
      "Update Linked List:\n",
      "4 5 6 \n"
     ]
    }
   ],
   "source": [
    "class ListNode:\n",
    "    def __init__(self, val=0, next=None):\n",
    "        self.val = val\n",
    "        self.next = next\n",
    "        \n",
    "        \n",
    "def middleNode(head):\n",
    "    fast = head\n",
    "    slow = head\n",
    "    \n",
    "    while (fast != None and fast.next != None):\n",
    "        # Move slow one step\n",
    "        slow = slow.next\n",
    "        # Move fast two step\n",
    "        fast = fast.next.next\n",
    "        \n",
    "    return slow\n",
    "\n",
    "\n",
    "# Test The Code\n",
    "def printLinkedList(head):\n",
    "    current = head\n",
    "    while current:\n",
    "        print(current.val, end=\" \")\n",
    "        current = current.next\n",
    "        \n",
    "    print()\n",
    "\n",
    "\n",
    "# Create the linked list [1, 2, 3, 4, 5]\n",
    "head = ListNode(1)\n",
    "head.next = ListNode(2)\n",
    "head.next.next = ListNode(3)\n",
    "head.next.next.next = ListNode(4)\n",
    "head.next.next.next.next = ListNode(5)\n",
    "head.next.next.next.next.next = ListNode(6)\n",
    "\n",
    "print(\"Original Linked List:\")\n",
    "printLinkedList(head)\n",
    "\n",
    "head = middleNode(head)\n",
    "\n",
    "print(\"Update Linked List:\")\n",
    "printLinkedList(head)"
   ]
  },
  {
   "cell_type": "markdown",
   "id": "0440c460",
   "metadata": {},
   "source": [
    "**Question 3: Palindrome Linked List**\n",
    "\n",
    "Given the `head` of a singly linked list, return `true` *if it is a*\n",
    "\n",
    "*palindrome or  false otherwise*\n",
    "\n",
    "**Example 1:**\n",
    "    \n",
    "<img src=\"q13.3.1.jpg\" width=\"500\" align='left'/>"
   ]
  },
  {
   "cell_type": "markdown",
   "id": "8c8d5154",
   "metadata": {},
   "source": [
    "Input: head = [1,2,2,1]\n",
    "Output: true\n",
    "\n",
    "**Example 2:**\n",
    "    \n",
    "<img src=\"q13.3.2.jpg\" width=\"200\" align='left'/>"
   ]
  },
  {
   "cell_type": "markdown",
   "id": "1397b558",
   "metadata": {},
   "source": [
    "Input: head = [1,2]\n",
    "Output: false\n",
    "    \n",
    "**Solution :**"
   ]
  },
  {
   "cell_type": "code",
   "execution_count": 15,
   "id": "df02168c",
   "metadata": {},
   "outputs": [
    {
     "name": "stdout",
     "output_type": "stream",
     "text": [
      "Original Linked List:\n",
      "1 2 3 3 2 1 \n"
     ]
    },
    {
     "data": {
      "text/plain": [
       "True"
      ]
     },
     "execution_count": 15,
     "metadata": {},
     "output_type": "execute_result"
    }
   ],
   "source": [
    "class ListNode:\n",
    "    def __init__(self, val=0, next=None):\n",
    "        self.val = val\n",
    "        self.next = next\n",
    "        \n",
    "def isPalindrome(head):\n",
    "    fast = head\n",
    "    slow = head\n",
    "    \n",
    "    while (fast != None and fast.next != None):\n",
    "        # Move slow one step\n",
    "        slow = slow.next\n",
    "        # Move fast two step\n",
    "        fast = fast.next.next\n",
    "        \n",
    "    # middle is slow\n",
    "    \n",
    "    # reverse the second half\n",
    "    prev = slow\n",
    "    slow = slow.next\n",
    "    prev.next = None\n",
    "    \n",
    "    while (slow != None):\n",
    "        temp = slow.next\n",
    "        slow.next = prev # reverse the link\n",
    "        prev = slow\n",
    "        slow = temp\n",
    "        \n",
    "    # traverse and check\n",
    "    fast = head # fast at start\n",
    "    slow = prev # slow at last\n",
    "    \n",
    "    while(slow != None):\n",
    "        \n",
    "        if (slow.val != fast.val):\n",
    "            return False\n",
    "        \n",
    "        slow = slow.next\n",
    "        fast = fast.next\n",
    "        \n",
    "    return True\n",
    "\n",
    "\n",
    "# Test The Code\n",
    "def printLinkedList(head):\n",
    "    current = head\n",
    "    while current:\n",
    "        print(current.val, end=\" \")\n",
    "        current = current.next\n",
    "        \n",
    "    print()\n",
    "\n",
    "    \n",
    "# Create the linked list [1, 2, 3, 3, 2, 1]\n",
    "head = ListNode(1)\n",
    "head.next = ListNode(2)\n",
    "head.next.next = ListNode(3)\n",
    "head.next.next.next = ListNode(3)\n",
    "head.next.next.next.next = ListNode(2)\n",
    "head.next.next.next.next.next = ListNode(1)\n",
    "\n",
    "\n",
    "print(\"Original Linked List:\")\n",
    "printLinkedList(head)\n",
    "\n",
    "isPalindrome(head)"
   ]
  },
  {
   "cell_type": "markdown",
   "id": "3ba60c90",
   "metadata": {},
   "source": [
    "**Question 4**\n",
    "\n",
    "Given `head`, the head of a linked list, determine if the linked list has a cycle in it.\n",
    "\n",
    "There is a cycle in a linked list if there is some node in the list that can be reached again by continuously following the `next` pointer. Internally, `pos` is used to denote the index of the node that tail's `next` pointer is connected to. **Note that `pos` is not passed as a parameter**.\n",
    "\n",
    "Return `true` *if there is a cycle in the linked list*. Otherwise, return `false`.\n",
    "\n",
    "**Example 1:**\n",
    "\n",
    "<img src=\"q13.4.1.png\" width=\"200\" align='left'/>"
   ]
  },
  {
   "cell_type": "markdown",
   "id": "2f1ebbd5",
   "metadata": {},
   "source": [
    "Input: head = [3,2,0,-4], pos = 1  \n",
    "Output: true  \n",
    "Explanation: There is a cycle in the linked list, where the tail connects to the 1st node (0-indexed).  \n",
    "\n",
    "**Example 2:**\n",
    "\n",
    "<img src=\"q13.4.2.png\" width=\"100\" align='left'/>"
   ]
  },
  {
   "cell_type": "markdown",
   "id": "ca477af7",
   "metadata": {},
   "source": [
    "Input: head = [1,2], pos = 0  \n",
    "Output: true  \n",
    "Explanation: There is a cycle in the linked list, where the tail connects to the 0th node.  \n",
    "\n",
    "**Example 3:**\n",
    "\n",
    "<img src=\"q13.4.3.png\" width=\"50\" align='left'/>"
   ]
  },
  {
   "cell_type": "markdown",
   "id": "02964ec8",
   "metadata": {},
   "source": [
    "Input: head = [1], pos = -1  \n",
    "Output: false  \n",
    "Explanation: There is no cycle in the linked list.  \n",
    "\n",
    "**Solution :**"
   ]
  },
  {
   "cell_type": "markdown",
   "id": "760a7357",
   "metadata": {},
   "source": [
    "#### This is for Circular Linked List"
   ]
  },
  {
   "cell_type": "code",
   "execution_count": 6,
   "id": "998fc265",
   "metadata": {},
   "outputs": [
    {
     "name": "stdout",
     "output_type": "stream",
     "text": [
      "Original Linked List:\n",
      "1 2 3 4 "
     ]
    },
    {
     "data": {
      "text/plain": [
       "True"
      ]
     },
     "execution_count": 6,
     "metadata": {},
     "output_type": "execute_result"
    }
   ],
   "source": [
    "class ListNode:\n",
    "    def __init__(self, val=0, next=None):\n",
    "        self.val = val\n",
    "        self.next = next\n",
    "\n",
    "\n",
    "def hasCycle(head):\n",
    "    slow = head\n",
    "    fast = head\n",
    "    \n",
    "    while (fast != None and fast.next != None):\n",
    "        slow = slow.next\n",
    "        fast = fast.next.next\n",
    "        \n",
    "        if (slow == fast):\n",
    "            return True\n",
    "        \n",
    "    return False\n",
    "    \n",
    "    \n",
    "# Test The Code\n",
    "def printLinkedList(head):\n",
    "    current = head\n",
    "#     stop = head2\n",
    "    if current is None:\n",
    "        print(\"List is Empty\")\n",
    "        return\n",
    "    else:\n",
    "        print(current.val, end=\" \")\n",
    "        while(current.next != head):\n",
    "            current = current.next\n",
    "            print(current.val, end=\" \")\n",
    "    \n",
    "    \n",
    "one = ListNode(1)\n",
    "two = ListNode(2)\n",
    "three = ListNode(3)\n",
    "four = ListNode(4)\n",
    "\n",
    "one.next = two\n",
    "two.next = three\n",
    "three.next = four\n",
    "four.next = one\n",
    "\n",
    "print(\"Original Linked List:\")\n",
    "printLinkedList(one)\n",
    "\n",
    "hasCycle(one)"
   ]
  },
  {
   "cell_type": "markdown",
   "id": "880e8dc4",
   "metadata": {},
   "source": [
    "#### This is for Normal Linked List"
   ]
  },
  {
   "cell_type": "code",
   "execution_count": 43,
   "id": "86c1b2e2",
   "metadata": {},
   "outputs": [
    {
     "name": "stdout",
     "output_type": "stream",
     "text": [
      "Original Linked List:\n",
      "1 2 3 4 \n"
     ]
    },
    {
     "data": {
      "text/plain": [
       "False"
      ]
     },
     "execution_count": 43,
     "metadata": {},
     "output_type": "execute_result"
    }
   ],
   "source": [
    "class ListNode:\n",
    "    def __init__(self, val=0, next=None):\n",
    "        self.val = val\n",
    "        self.next = next\n",
    "        \n",
    "def hasCycle(head):\n",
    "    slow = head\n",
    "    fast = head\n",
    "    \n",
    "    while (fast != None and fast.next != None):\n",
    "        slow = slow.next\n",
    "        fast = fast.next.next\n",
    "        \n",
    "        if (slow == fast):\n",
    "            return True\n",
    "        \n",
    "    return False\n",
    "\n",
    "\n",
    "# Test The Code\n",
    "def printLinkedList(head):\n",
    "    current = head\n",
    "    while current:\n",
    "        print(current.val, end=\" \")\n",
    "        current = current.next\n",
    "        \n",
    "    print()\n",
    "\n",
    "    \n",
    "# Create the linked list [1, 2, 3, 4]\n",
    "head = ListNode(1)\n",
    "head.next = ListNode(2)\n",
    "head.next.next = ListNode(3)\n",
    "head.next.next.next = ListNode(4)\n",
    "\n",
    "print(\"Original Linked List:\")\n",
    "printLinkedList(head)\n",
    "\n",
    "hasCycle(head)"
   ]
  },
  {
   "cell_type": "code",
   "execution_count": null,
   "id": "ce0d573c",
   "metadata": {},
   "outputs": [],
   "source": []
  }
 ],
 "metadata": {
  "kernelspec": {
   "display_name": "Python 3 (ipykernel)",
   "language": "python",
   "name": "python3"
  },
  "language_info": {
   "codemirror_mode": {
    "name": "ipython",
    "version": 3
   },
   "file_extension": ".py",
   "mimetype": "text/x-python",
   "name": "python",
   "nbconvert_exporter": "python",
   "pygments_lexer": "ipython3",
   "version": "3.9.13"
  }
 },
 "nbformat": 4,
 "nbformat_minor": 5
}
