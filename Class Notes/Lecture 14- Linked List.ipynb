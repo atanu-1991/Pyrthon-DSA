{
 "cells": [
  {
   "cell_type": "markdown",
   "id": "672b5523",
   "metadata": {},
   "source": [
    "**Question 1**\n",
    "\n",
    "Given the `head` of a linked list, return *the node where the cycle begins. If there is no cycle, return* `null`.\n",
    "\n",
    "There is a cycle in a linked list if there is some node in the list that can be reached again by continuously following the `next` pointer. Internally, `pos` is used to denote the index of the node that tail's `next` pointer is connected to (**0-indexed**). It is `-1` if there is no cycle. **Note that** `pos` **is not passed as a parameter**.\n",
    "\n",
    "**Do not modify** the linked list.\n",
    "\n",
    "**Example 1:**\n",
    "\n",
    "<img src=\"q13.4.1.png\" width=\"200\" align='left'/>"
   ]
  },
  {
   "cell_type": "markdown",
   "id": "cfd2599c",
   "metadata": {},
   "source": [
    "Input: head = [3,2,0,-4], pos = 1  \n",
    "Output: tail connects to node index 1  \n",
    "Explanation: There is a cycle in the linked list, where tail connects to the second node.  \n",
    "\n",
    "**Example 2:**\n",
    "    \n",
    "<img src=\"q13.4.2.png\" width=\"100\" align='left'/>"
   ]
  },
  {
   "cell_type": "markdown",
   "id": "2482312d",
   "metadata": {},
   "source": [
    "Input: head = [1,2], pos = 0  \n",
    "Output: tail connects to node index 0  \n",
    "Explanation: There is a cycle in the linked list, where tail connects to the first node.  \n",
    "\n",
    "**Example 3:**  \n",
    "\n",
    "<img src=\"q13.4.3.png\" width=\"50\" align='left'/>"
   ]
  },
  {
   "cell_type": "markdown",
   "id": "9c8e5658",
   "metadata": {},
   "source": [
    "Input: head = [1], pos = -1  \n",
    "Output: no cycle  \n",
    "Explanation: There is no cycle in the linked list.  \n",
    "\n",
    "**Solution :**"
   ]
  },
  {
   "cell_type": "code",
   "execution_count": 8,
   "id": "0a087c00",
   "metadata": {},
   "outputs": [
    {
     "data": {
      "text/plain": [
       "4"
      ]
     },
     "execution_count": 8,
     "metadata": {},
     "output_type": "execute_result"
    }
   ],
   "source": [
    "class ListNode:\n",
    "    def __init__(self, val=0, next=None):\n",
    "        self.val = val\n",
    "        self.next = next\n",
    "\n",
    "\n",
    "def detectCycle(head):\n",
    "    slow = head\n",
    "    fast = head\n",
    "    while (fast != None and fast.next != None):\n",
    "        slow = slow.next\n",
    "        fast = fast.next.next\n",
    "        if (slow==fast):\n",
    "            break\n",
    "        \n",
    "    if (fast == None or fast.next == None): # No Cycle\n",
    "        return None\n",
    "    \n",
    "    while(head != slow):\n",
    "        head = head.next\n",
    "        slow = slow.next\n",
    "        \n",
    "    return head.val\n",
    "\n",
    "one = ListNode(1)\n",
    "two = ListNode(2)\n",
    "# three = ListNode(3)\n",
    "four = ListNode(4)\n",
    "five = ListNode(5)\n",
    "six = ListNode(6)\n",
    "\n",
    "one.next = two\n",
    "two.next = four\n",
    "# three.next = four\n",
    "four.next = five\n",
    "five.next = six\n",
    "six.next = four\n",
    "\n",
    "detectCycle(one)"
   ]
  },
  {
   "cell_type": "markdown",
   "id": "59e729b2",
   "metadata": {},
   "source": [
    "**Question 2**\n",
    "\n",
    "In a linked list of size `n`, where `n` is **even**, the `ith` node (**0-indexed**) of the linked list is known as the **twin** of the `(n-1-i)th` node, if `0 <= i <= (n / 2) - 1`.\n",
    "\n",
    "- For example, if `n = 4`, then node `0` is the twin of node `3`, and node `1` is the twin of node `2`. These are the only nodes with twins for `n = 4`.\n",
    "\n",
    "The **twin sum** is defined as the sum of a node and its twin.\n",
    "\n",
    "Given the `head` of a linked list with even length, return *the **maximum twin sum** of the linked list*.\n",
    "\n",
    "**Example 1:**\n",
    "\n",
    "<img src=\"q14.2.1.png\" width=\"300\" align='left'/>"
   ]
  },
  {
   "cell_type": "markdown",
   "id": "2eff2cbe",
   "metadata": {},
   "source": [
    "Input: head = [5,4,2,1]  \n",
    "Output: 6  \n",
    "Explanation:  \n",
    "Nodes 0 and 1 are the twins of nodes 3 and 2, respectively. All have twin sum = 6.  \n",
    "There are no other nodes with twins in the linked list.  \n",
    "Thus, the maximum twin sum of the linked list is 6.  \n",
    "\n",
    "**Example 2:**\n",
    "\n",
    "<img src=\"q14.2.2.png\" width=\"300\" align='left'/>"
   ]
  },
  {
   "cell_type": "markdown",
   "id": "39af749e",
   "metadata": {},
   "source": [
    "Input: head = [4,2,2,3]  \n",
    "Output: 7  \n",
    "Explanation:  \n",
    "The nodes with twins present in this linked list are:\n",
    "- Node 0 is the twin of node 3 having a twin sum of 4 + 3 = 7.\n",
    "- Node 1 is the twin of node 2 having a twin sum of 2 + 2 = 4.\n",
    "\n",
    "Thus, the maximum twin sum of the linked list is max(7, 4) = 7.\n",
    "\n",
    "**Example 3:**\n",
    "\n",
    "<img src=\"q14.2.3.png\" width=\"200\" align='left'/>"
   ]
  },
  {
   "cell_type": "markdown",
   "id": "01b3a356",
   "metadata": {},
   "source": [
    "Input: head = [1,100000]  \n",
    "Output: 100001  \n",
    "Explanation:  \n",
    "There is only one node with a twin in the linked list having twin sum of 1 + 100000 = 100001.  "
   ]
  },
  {
   "cell_type": "code",
   "execution_count": 2,
   "id": "7bf2097f",
   "metadata": {},
   "outputs": [
    {
     "name": "stdout",
     "output_type": "stream",
     "text": [
      "Original Linked List:\n",
      "1 3 4 8 2 7 \n",
      "Maximum TwinSum of Two Linked List\n"
     ]
    },
    {
     "data": {
      "text/plain": [
       "12"
      ]
     },
     "execution_count": 2,
     "metadata": {},
     "output_type": "execute_result"
    }
   ],
   "source": [
    "class ListNode:\n",
    "    def __init__(self, val=0, next=None):\n",
    "        self.val = val\n",
    "        self.next = next\n",
    "\n",
    "\n",
    "def pairSum(head):\n",
    "    # Find the Middle\n",
    "    slow = head\n",
    "    fast = head\n",
    "    while (fast != None and fast.next != None):\n",
    "        slow = slow.next\n",
    "        fast = fast.next.next\n",
    "    # Slow is the middle\n",
    "    \n",
    "    # Reverse second half of the list\n",
    "    prev = None\n",
    "    while (slow != None):\n",
    "        temp = slow.next\n",
    "        slow.next = prev\n",
    "        prev = slow\n",
    "        slow = temp\n",
    "        \n",
    "    # Traverse and find maximum\n",
    "    maxsum = 0\n",
    "    while(prev != None):\n",
    "        maxsum = max(maxsum,head.val+prev.val)\n",
    "        head = head.next\n",
    "        prev = prev.next\n",
    "        \n",
    "    return maxsum\n",
    "\n",
    "\n",
    "# Test The Code\n",
    "def printLinkedList(head):\n",
    "    current = head\n",
    "    while current:\n",
    "        print(current.val, end=\" \")\n",
    "        current = current.next\n",
    "        \n",
    "    print()\n",
    "\n",
    "\n",
    "# Create the First linked list [1, 3, 4, 8, 2, 7]\n",
    "head = ListNode(1)\n",
    "head.next = ListNode(3)\n",
    "head.next.next = ListNode(4)\n",
    "head.next.next.next = ListNode(8)\n",
    "head.next.next.next.next = ListNode(2)\n",
    "head.next.next.next.next.next = ListNode(7)\n",
    "\n",
    "\n",
    "print(\"Original Linked List:\")\n",
    "printLinkedList(head)\n",
    "\n",
    "print(\"Maximum TwinSum of Two Linked List\")\n",
    "pairSum(head)"
   ]
  },
  {
   "cell_type": "markdown",
   "id": "bf4fa962",
   "metadata": {},
   "source": [
    "**Question 3**\n",
    "\n",
    "Given the `head` of a linked list, remove the `nth` node from the end of the list and return its head.\n",
    "\n",
    "**Example 1:**\n",
    "\n",
    "<img src=\"q14.3.1.jpg\" width=\"500\" align='left'/>"
   ]
  },
  {
   "cell_type": "markdown",
   "id": "630719dd",
   "metadata": {},
   "source": [
    "Input: head = [1,2,3,4,5], n = 2  \n",
    "Output: [1,2,3,5]  \n",
    "\n",
    "**Example 2:**\n",
    "\n",
    "Input: head = [1], n = 1\n",
    "Output: []\n",
    "\n",
    "**Example 3:**\n",
    "\n",
    "Input: head = [1,2], n = 1  \n",
    "Output: [1]  \n",
    "\n",
    "**Solution :**"
   ]
  },
  {
   "cell_type": "code",
   "execution_count": 4,
   "id": "5c5aa157",
   "metadata": {},
   "outputs": [
    {
     "name": "stdout",
     "output_type": "stream",
     "text": [
      "Original Linked List:\n",
      "1 2 3 4 5 6 7 8 \n",
      "Updated Linked List:\n",
      "1 2 3 4 5 7 8 \n"
     ]
    }
   ],
   "source": [
    "class ListNode:\n",
    "    def __init__(self, val=0, next=None):\n",
    "        self.val = val\n",
    "        self.next = next\n",
    "\n",
    "\n",
    "def removeNthFromEnd(head, n):\n",
    "    slow = head\n",
    "    fast = head\n",
    "    for i in range(n):\n",
    "        fast = fast.next\n",
    "        \n",
    "    if (fast == None):\n",
    "        return head.next\n",
    "    \n",
    "    while (fast.next != None): # last Node -> fast.next != None\n",
    "        fast = fast.next\n",
    "        slow = slow.next\n",
    "        \n",
    "    slow.next = slow.next.next\n",
    "    return head\n",
    "\n",
    "\n",
    "\n",
    "# Test The Code\n",
    "def printLinkedList(head):\n",
    "    current = head\n",
    "    while current:\n",
    "        print(current.val, end=\" \")\n",
    "        current = current.next\n",
    "        \n",
    "    print()\n",
    "    \n",
    "\n",
    "\n",
    "# Create the First linked list [1, 2, 3, 4, 5, 6, 7, 8]\n",
    "head = ListNode(1)\n",
    "head.next = ListNode(2)\n",
    "head.next.next = ListNode(3)\n",
    "head.next.next.next = ListNode(4)\n",
    "head.next.next.next.next = ListNode(5)\n",
    "head.next.next.next.next.next = ListNode(6)\n",
    "head.next.next.next.next.next.next = ListNode(7)\n",
    "head.next.next.next.next.next.next.next = ListNode(8)\n",
    "\n",
    "\n",
    "print(\"Original Linked List:\")\n",
    "printLinkedList(head)\n",
    "\n",
    "head = removeNthFromEnd(head,3)\n",
    "\n",
    "print(\"Updated Linked List:\")\n",
    "printLinkedList(head)"
   ]
  },
  {
   "cell_type": "code",
   "execution_count": null,
   "id": "e4a4f9d2",
   "metadata": {},
   "outputs": [],
   "source": []
  },
  {
   "cell_type": "code",
   "execution_count": null,
   "id": "4e27b9eb",
   "metadata": {},
   "outputs": [],
   "source": []
  },
  {
   "cell_type": "code",
   "execution_count": null,
   "id": "c25b1ea0",
   "metadata": {},
   "outputs": [],
   "source": []
  },
  {
   "cell_type": "code",
   "execution_count": null,
   "id": "6240e9bc",
   "metadata": {},
   "outputs": [],
   "source": []
  },
  {
   "cell_type": "code",
   "execution_count": null,
   "id": "847839b0",
   "metadata": {},
   "outputs": [],
   "source": []
  }
 ],
 "metadata": {
  "kernelspec": {
   "display_name": "Python 3 (ipykernel)",
   "language": "python",
   "name": "python3"
  },
  "language_info": {
   "codemirror_mode": {
    "name": "ipython",
    "version": 3
   },
   "file_extension": ".py",
   "mimetype": "text/x-python",
   "name": "python",
   "nbconvert_exporter": "python",
   "pygments_lexer": "ipython3",
   "version": "3.9.13"
  }
 },
 "nbformat": 4,
 "nbformat_minor": 5
}
