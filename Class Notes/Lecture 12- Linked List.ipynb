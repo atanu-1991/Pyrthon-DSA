{
 "cells": [
  {
   "cell_type": "markdown",
   "id": "cd102990",
   "metadata": {},
   "source": [
    "**Question 1**\n",
    "\n",
    "There is a singly-linked list `head` and we want to delete a node `node` in it.\n",
    "\n",
    "You are given the node to be deleted `node`. You will **not be given access** to the first node of `head`.\n",
    "\n",
    "All the values of the linked list are **unique**, and it is guaranteed that the given node `node` is not the last node in the linked list.\n",
    "\n",
    "Delete the given node. Note that by deleting the node, we do not mean removing it from memory. We mean:\n",
    "\n",
    "- The value of the given node should not exist in the linked list.\n",
    "- The number of nodes in the linked list should decrease by one.\n",
    "- All the values before `node` should be in the same order.\n",
    "- All the values after `node` should be in the same order.\n",
    "\n",
    "**Custom testing:**\n",
    "\n",
    "- For the input, you should provide the entire linked list `head` and the node to be given `node`. `node` should not be the last node of the list and should be an actual node in the list.\n",
    "- We will build the linked list and pass the node to your function.\n",
    "- The output will be the entire list after calling your function.\n",
    "\n",
    "**Example 1:**\n",
    "\n",
    "<img src=\"q12.1.jpg\" width=\"300\" align='left'/>"
   ]
  },
  {
   "cell_type": "markdown",
   "id": "5a68010f",
   "metadata": {},
   "source": [
    "Input: head = [4,5,1,9], node = 5  \n",
    "Output: [4,1,9]  \n",
    "Explanation:You are given the second node with value 5, the linked list should become 4 -> 1 -> 9 after calling your function.  \n",
    "\n",
    "**Example 2:**\n",
    "\n",
    "<img src=\"q12.1.2.jpg\" width=\"300\" align='left'/>"
   ]
  },
  {
   "cell_type": "markdown",
   "id": "7db4b24c",
   "metadata": {},
   "source": [
    "Input: head = [4,5,1,9], node = 1  \n",
    "Output: [4,5,9]  \n",
    "Explanation:You are given the third node with value 1, the linked list should become 4 -> 5 -> 9 after calling your function.\n",
    "\n",
    "**Approach:**\n",
    "\n",
    "We first update the value of the current node with the value of its next node, and then we skip the next node by pointing the current node's next pointer to its next node's next pointer.\n",
    "\n",
    "---\n",
    "\n",
    "**Complexity:**\n",
    "\n",
    "- Time complexity: Since we are only modifying the value and next pointer of the given node, the time complexity of this algorithm is O(1).\n",
    "- Space complexity: As we are not using any extra space, the space complexity of this algorithm is O(1).\n",
    "\n",
    "**Solution :**"
   ]
  },
  {
   "cell_type": "code",
   "execution_count": 2,
   "id": "8533f44c",
   "metadata": {},
   "outputs": [
    {
     "name": "stdout",
     "output_type": "stream",
     "text": [
      "Original Linked List:\n",
      "4 5 1 9 \n",
      "Update Linked List:\n",
      "4 1 9 \n"
     ]
    }
   ],
   "source": [
    "class ListNode:\n",
    "    def __init__(self, val=0, next=None):\n",
    "        self.val = val\n",
    "        self.next = next\n",
    "        \n",
    "def deleteNode(node):\n",
    "    if node.next is None:\n",
    "        # This is the last node in the list\n",
    "        return None\n",
    "    \n",
    "    # Copy the value of the next node to the current node\n",
    "    node.val = node.next.val\n",
    "    \n",
    "    # Update the current node's next reference to skip the next node\n",
    "    node.next = node.next.next\n",
    "    \n",
    "    return node\n",
    "\n",
    "\n",
    "# Test The Code\n",
    "def printLinkedList(head):\n",
    "    current = head\n",
    "    while current:\n",
    "        print(current.val, end=\" \")\n",
    "        current = current.next\n",
    "        \n",
    "    print()\n",
    "    \n",
    "# Create the linked list [4, 5, 1, 9]\n",
    "head = ListNode(4)\n",
    "head.next = ListNode(5)\n",
    "head.next.next = ListNode(1)\n",
    "head.next.next.next = ListNode(9)\n",
    "\n",
    "print(\"Original Linked List:\")\n",
    "printLinkedList(head)\n",
    "\n",
    "# Delete the node with value 5\n",
    "node = head.next # Node with value 5\n",
    "deleteNode(node)\n",
    "\n",
    "print(\"Update Linked List:\")\n",
    "printLinkedList(head)"
   ]
  },
  {
   "cell_type": "markdown",
   "id": "4bc7a46e",
   "metadata": {},
   "source": [
    "**Question 2**\n",
    "\n",
    "Given the `head` of a linked list and an integer `val`, remove all the nodes of the linked list that has `Node.val == val`, and return *the new head*.\n",
    "\n",
    "**Example 1:**\n",
    "\n",
    "<img src=\"q12.2.jpg\" width=\"500\" align='left'/>  "
   ]
  },
  {
   "cell_type": "markdown",
   "id": "33902baa",
   "metadata": {},
   "source": [
    "Input: head = [1,2,6,3,4,5,6], val = 6  \n",
    "Output: [1,2,3,4,5]  \n",
    "\n",
    "**Example 2:**\n",
    "Input: head = [], val = 1  \n",
    "Output: []  \n",
    "\n",
    "**Example 3:**\n",
    "Input: head = [7,7,7,7], val = 7  \n",
    "Output: []  \n",
    "\n",
    "**Solution :**"
   ]
  },
  {
   "cell_type": "code",
   "execution_count": 3,
   "id": "a8d4a40b",
   "metadata": {},
   "outputs": [
    {
     "name": "stdout",
     "output_type": "stream",
     "text": [
      "Original Linked List:\n",
      "1 2 3 4 2 5 6 \n",
      "Update Linked List:\n",
      "1 3 4 5 6 \n"
     ]
    }
   ],
   "source": [
    "class ListNode:\n",
    "    def __init__(self, val=0, next=None):\n",
    "        self.val = val\n",
    "        self.next = next\n",
    "        \n",
    "def removeElements(head, val):\n",
    "    if not head:\n",
    "        return head\n",
    "    curr = head\n",
    "    prev = None\n",
    "    while curr:\n",
    "        if curr.val == val:\n",
    "            if not prev:\n",
    "                head = curr.next\n",
    "                curr = head\n",
    "            else:\n",
    "                prev.next = curr.next\n",
    "                curr = prev.next\n",
    "                \n",
    "        else:\n",
    "            prev = curr\n",
    "            curr = prev.next\n",
    "            \n",
    "    return head\n",
    "\n",
    "\n",
    "# Test The Code\n",
    "def printLinkedList(head):\n",
    "    current = head\n",
    "    while current:\n",
    "        print(current.val, end=\" \")\n",
    "        current = current.next\n",
    "        \n",
    "    print()\n",
    "    \n",
    "    \n",
    "# Create the linked list [1, 2, 3, 4, 2, 5, 6]\n",
    "head = ListNode(1)\n",
    "head.next = ListNode(2)\n",
    "head.next.next = ListNode(3)\n",
    "head.next.next.next = ListNode(4)\n",
    "head.next.next.next.next = ListNode(2)\n",
    "head.next.next.next.next.next = ListNode(5)\n",
    "head.next.next.next.next.next.next = ListNode(6)\n",
    "\n",
    "print(\"Original Linked List:\")\n",
    "printLinkedList(head)\n",
    "\n",
    "removeElements(head, 2)\n",
    "\n",
    "print(\"Update Linked List:\")\n",
    "printLinkedList(head)"
   ]
  },
  {
   "cell_type": "markdown",
   "id": "bc28a539",
   "metadata": {},
   "source": [
    "**Question 3**\n",
    "\n",
    "Given the `head` of a singly linked list, reverse the list, and return *the reversed list*.\n",
    "\n",
    "**Example 1:**\n",
    "    \n",
    "<img src=\"q12.3.jpg\" width=\"300\" align='left'/>  "
   ]
  },
  {
   "cell_type": "markdown",
   "id": "e3c8fe78",
   "metadata": {},
   "source": [
    "Input: head = [1,2,3,4,5]  \n",
    "Output: [5,4,3,2,1]  \n",
    "\n",
    "**Example 2:**\n",
    "\n",
    "<img src=\"q12.3.2.jpg\" width=\"100\" align='left'/>"
   ]
  },
  {
   "cell_type": "markdown",
   "id": "d65d210a",
   "metadata": {},
   "source": [
    "Input: head = [1,2]\n",
    "Output: [2,1]\n",
    "\n",
    "**Example 3:**\n",
    "Input: head = []\n",
    "Output: []\n",
    "\n",
    "**Solution :**"
   ]
  },
  {
   "cell_type": "code",
   "execution_count": 6,
   "id": "9bfe1ccd",
   "metadata": {},
   "outputs": [
    {
     "name": "stdout",
     "output_type": "stream",
     "text": [
      "Original Linked List:\n",
      "1 2 3 4 5 \n",
      "Update Linked List:\n",
      "5 4 3 2 1 \n"
     ]
    }
   ],
   "source": [
    "class ListNode:\n",
    "    def __init__(self, val=0, next=None):\n",
    "        self.val = val\n",
    "        self.next = next\n",
    "        \n",
    "        \n",
    "def reverseList(head):\n",
    "    if not head:\n",
    "        return head\n",
    "    \n",
    "    curr = head\n",
    "    prev = None\n",
    "    \n",
    "    while curr is not None:\n",
    "        temp = curr.next\n",
    "        curr.next = prev\n",
    "        prev = curr\n",
    "        curr = temp\n",
    "        \n",
    "    return prev\n",
    "\n",
    "\n",
    "# Test The Code\n",
    "def printLinkedList(head):\n",
    "    current = head\n",
    "    while current:\n",
    "        print(current.val, end=\" \")\n",
    "        current = current.next\n",
    "        \n",
    "    print()\n",
    "    \n",
    "    \n",
    "    \n",
    "# Create the linked list [1, 2, 3, 4, 5]\n",
    "head = ListNode(1)\n",
    "head.next = ListNode(2)\n",
    "head.next.next = ListNode(3)\n",
    "head.next.next.next = ListNode(4)\n",
    "head.next.next.next.next = ListNode(5)\n",
    "\n",
    "\n",
    "print(\"Original Linked List:\")\n",
    "printLinkedList(head)\n",
    "\n",
    "head = reverseList(head)\n",
    "\n",
    "print(\"Update Linked List:\")\n",
    "printLinkedList(head)"
   ]
  },
  {
   "cell_type": "code",
   "execution_count": null,
   "id": "deeaf510",
   "metadata": {},
   "outputs": [],
   "source": []
  }
 ],
 "metadata": {
  "kernelspec": {
   "display_name": "Python 3 (ipykernel)",
   "language": "python",
   "name": "python3"
  },
  "language_info": {
   "codemirror_mode": {
    "name": "ipython",
    "version": 3
   },
   "file_extension": ".py",
   "mimetype": "text/x-python",
   "name": "python",
   "nbconvert_exporter": "python",
   "pygments_lexer": "ipython3",
   "version": "3.9.13"
  }
 },
 "nbformat": 4,
 "nbformat_minor": 5
}
