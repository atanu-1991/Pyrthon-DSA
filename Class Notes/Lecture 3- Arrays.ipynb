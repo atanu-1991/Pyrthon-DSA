{
 "cells": [
  {
   "cell_type": "markdown",
   "id": "ec9f9e9c",
   "metadata": {},
   "source": [
    "**Question 1**\n",
    "Implement `pow(x, n)`, which calculates `x` raised to the power `n` (i.e., `x^n`).  \n",
    "\n",
    "**Example 1:**  \n",
    "Input: x = 2.00000, n = 10  \n",
    "Output: 1024.00000  \n",
    "\n",
    "**Solution:**\n",
    "Python: https://pastebin.com/4kvtricN\n",
    "\n",
    "Time Complexity : O(log n)  \n",
    "Space Complexity : O(1)  "
   ]
  },
  {
   "cell_type": "code",
   "execution_count": 1,
   "id": "a7cd5325",
   "metadata": {},
   "outputs": [],
   "source": [
    "def power(x, n):\n",
    "    if n==0:\n",
    "        return 1\n",
    "    if n<0:\n",
    "        n = -n\n",
    "        x = 1/x\n",
    "    return x * pow(x*x, n//2) if n%2 else pow(x*x, n//2)"
   ]
  },
  {
   "cell_type": "code",
   "execution_count": 3,
   "id": "3f614604",
   "metadata": {},
   "outputs": [
    {
     "data": {
      "text/plain": [
       "0.125"
      ]
     },
     "execution_count": 3,
     "metadata": {},
     "output_type": "execute_result"
    }
   ],
   "source": [
    "power(2,-3)"
   ]
  },
  {
   "cell_type": "markdown",
   "id": "1091951b",
   "metadata": {},
   "source": [
    "**Question 2**\n",
    "\n",
    "A permutation of an array of integers is an arrangement of its members into a sequence or linear order.\n",
    "\n",
    "* For example, for arr = [1,2,3], the following are all the permutations of arr: [1,2,3], [1,3,2], [2, 1, 3], [2, 3, 1], [3,1,2], [3,2,1].\n",
    "\n",
    "The next permutation of an array of integers is the next lexicographically greater permutation of its integer. More formally, if all the permutations of the array are sorted in one container according to their lexicographical order, then the next permutation of that array is the permutation that follows it in the sorted container. If such arrangement is not possible, the array must be rearranged as the lowest possible order (i.e., sorted in ascending order).\n",
    "\n",
    "- For example, the next permutation of arr = [1,2,3] is [1,3,2].\n",
    "- Similarly, the next permutation of arr = [2,3,1] is [3,1,2].\n",
    "- While the next permutation of arr = [3,2,1] is [1,2,3] because [3,2,1] does not have a lexicographical larger rearrangement.\n",
    "\n",
    "Given an array of integers nums, *find the next permutation of* nums.\n",
    "\n",
    "The replacement must be [in place](http://en.wikipedia.org/wiki/In-place_algorithm) and use only constant extra memory.\n",
    "\n",
    "**Example 1:**  \n",
    "Input: nums = [1,2,3]  \n",
    "Output: [1,3,2]  \n",
    "\n",
    "**Time complexity:** *O*(*n*). In worst case, only two scans of the whole array are needed.\n",
    "\n",
    "**Space complexity:** *O*(1). No extra space is used. In place replacements are done."
   ]
  },
  {
   "cell_type": "code",
   "execution_count": 8,
   "id": "6fc2272b",
   "metadata": {},
   "outputs": [],
   "source": [
    "def reverse(nums, start):\n",
    "    i, j = start, len(nums)-1\n",
    "    while i<j:\n",
    "        nums[i], nums[j] = nums[j], nums[i]\n",
    "        i = i + 1\n",
    "        j = j - 1\n",
    "    return nums"
   ]
  },
  {
   "cell_type": "code",
   "execution_count": 9,
   "id": "e6249c26",
   "metadata": {},
   "outputs": [],
   "source": [
    "def next_permutation(nums):\n",
    "    i = len(nums) - 2\n",
    "    \n",
    "    while i>=0 and nums[i+1] <= nums[i]:\n",
    "        i = i - 1\n",
    "        \n",
    "    if i >= 0:\n",
    "        j = len(nums) - 1\n",
    "        \n",
    "        while nums[j] <= nums[i]:\n",
    "            j = j - 1\n",
    "        \n",
    "        nums[i], nums[j] = nums[j], nums[i]\n",
    "        \n",
    "    return reverse(nums, i+1)"
   ]
  },
  {
   "cell_type": "code",
   "execution_count": 10,
   "id": "669a35c4",
   "metadata": {},
   "outputs": [
    {
     "data": {
      "text/plain": [
       "[1, 5, 8, 4, 5, 6, 4, 1, 3, 7]"
      ]
     },
     "execution_count": 10,
     "metadata": {},
     "output_type": "execute_result"
    }
   ],
   "source": [
    "next_permutation([1,5,8,4,5,6,3,7,4,1])"
   ]
  },
  {
   "cell_type": "markdown",
   "id": "52b2618f",
   "metadata": {},
   "source": [
    "**Question 3**\n",
    "\n",
    "Given an array arr[] of distinct elements size N that is sorted and then around an unknown point, the task is to check if the array has a pair with a given sum X.\n",
    "\n",
    "**Examples :**\n",
    "\n",
    "**Input:** arr[] = {11, 15, 6, 8, 9, 10}, X = 16\n",
    "\n",
    "**Output:** true\n",
    "\n",
    "**Explanation:** There is a pair (6, 10) with sum 16\n",
    "\n",
    "**Time Complexity:** O(n), where n is the length of the input array.\n",
    "\n",
    "**Space Complexity:** O(1)."
   ]
  },
  {
   "cell_type": "code",
   "execution_count": 12,
   "id": "d04bee67",
   "metadata": {},
   "outputs": [],
   "source": [
    "def find_pair(arr, X):\n",
    "    n = len(arr)\n",
    "    \n",
    "    # find pivot element\n",
    "    pivot = 0\n",
    "    for i in range(n - 1):\n",
    "        if arr[i] > arr[i+1]:\n",
    "            pivot = i + 1\n",
    "            break\n",
    "            \n",
    "    left_pointer = pivot\n",
    "    right_pointer = pivot - 1\n",
    "    \n",
    "    while(left_pointer != right_pointer):\n",
    "        if arr[left_pointer] + arr[right_pointer] == X:\n",
    "            return True\n",
    "        elif arr[left_pointer] + arr[right_pointer] < X:\n",
    "            left_pointer = (left_pointer + 1) % n\n",
    "        else:\n",
    "            right_pointer = (right_pointer - 1 + n) % n\n",
    "            \n",
    "    return False"
   ]
  },
  {
   "cell_type": "code",
   "execution_count": 15,
   "id": "c2ea3a50",
   "metadata": {},
   "outputs": [
    {
     "name": "stdout",
     "output_type": "stream",
     "text": [
      "True\n"
     ]
    }
   ],
   "source": [
    "arr = [11, 15, 6, 8, 9, 10]\n",
    "x = 16\n",
    "print(find_pair(arr, x))"
   ]
  },
  {
   "cell_type": "markdown",
   "id": "e2b6f801",
   "metadata": {},
   "source": [
    "**Question 4**\n",
    "\n",
    "Given an array nums with n objects colored red, white, or blue, sort them [in-place](https://en.wikipedia.org/wiki/In-place_algorithm) so that objects of the same color are adjacent, with the colors in the order red, white, and blue.\n",
    "\n",
    "**Note:** This problem is also called Dutch National Flag Problem\n",
    "\n",
    "We will use the integers 0, 1, and 2 to represent the color red, white, and blue, respectively.\n",
    "\n",
    "You must solve this problem without using the library's sort function.\n",
    "\n",
    "**Example 1:**  \n",
    "\n",
    "**Input:** nums = [2,0,2,1,1,0]\n",
    "\n",
    "**Output:** [0,0,1,1,2,2]\n",
    "\n",
    "**Solution:**\n",
    "\n",
    "**Time Complexity** : O(n)\n",
    "\n",
    "**Space Complexity** : O(1)"
   ]
  },
  {
   "cell_type": "code",
   "execution_count": 1,
   "id": "0e29ece4",
   "metadata": {},
   "outputs": [],
   "source": [
    "def sort_colors(nums):\n",
    "    p0 = 0\n",
    "    curr = 0\n",
    "    p2 = len(nums) - 1\n",
    "    \n",
    "    while curr <= p2:\n",
    "        if nums[curr] == 0:\n",
    "            # swap p0 and curr-th elements\n",
    "            nums[p0], nums[curr] = nums[curr], nums[p0]\n",
    "            p0 = p0 + 1\n",
    "            curr = curr + 1\n",
    "            \n",
    "        elif nums[curr] == 2:\n",
    "            nums[curr], nums[p2] = nums[p2], nums[curr]\n",
    "            p2 = p2 - 1\n",
    "            \n",
    "        else:\n",
    "            curr = curr + 1\n",
    "            \n",
    "    return nums"
   ]
  },
  {
   "cell_type": "code",
   "execution_count": 2,
   "id": "ff1de8e8",
   "metadata": {},
   "outputs": [
    {
     "data": {
      "text/plain": [
       "[0, 0, 1, 1, 2, 2]"
      ]
     },
     "execution_count": 2,
     "metadata": {},
     "output_type": "execute_result"
    }
   ],
   "source": [
    "nums = [2,0,2,1,1,0]\n",
    "sort_colors(nums)"
   ]
  },
  {
   "cell_type": "markdown",
   "id": "7d883691",
   "metadata": {},
   "source": [
    "**Question 5**\n",
    "\n",
    "Given an integer array nums, rotate the array to the right by k steps, where k is non-negative.\n",
    "\n",
    "**Example 1:**\n",
    "\n",
    "**Input:** nums = [1,2,3,4,5,6,7], k = 3\n",
    "\n",
    "**Output:** [5,6,7,1,2,3,4]\n",
    "\n",
    "**Explanation:**\n",
    "\n",
    "rotate 1 steps to the right: [7,1,2,3,4,5,6]\n",
    "\n",
    "rotate 2 steps to the right: [6,7,1,2,3,4,5]\n",
    "\n",
    "rotate 3 steps to the right: [5,6,7,1,2,3,4]\n",
    "\n",
    "**Solution:**\n",
    "\n",
    "**Time Complexity:** O(n)\n",
    "\n",
    "**Space Complexity:** O(1)"
   ]
  },
  {
   "cell_type": "code",
   "execution_count": 18,
   "id": "df33810a",
   "metadata": {},
   "outputs": [],
   "source": [
    "def reverse(nums, start, end):\n",
    "    \n",
    "    while(start < end):\n",
    "        \n",
    "        temp = nums[start]\n",
    "        nums[start] = nums[end]\n",
    "        nums[end] = temp\n",
    "        \n",
    "        start = start + 1\n",
    "        end = end - 1\n",
    "        \n",
    "    return nums"
   ]
  },
  {
   "cell_type": "code",
   "execution_count": 19,
   "id": "1e0a015d",
   "metadata": {},
   "outputs": [],
   "source": [
    "def rotate(nums, step):\n",
    "    step %= len(nums)\n",
    "    nums_first = reverse(nums, 0, len(nums)-1)\n",
    "    nums_second = reverse(nums_first, 0, step-1)\n",
    "    nums_final = reverse(nums_second, step, len(nums)-1)\n",
    "    \n",
    "    return nums_final"
   ]
  },
  {
   "cell_type": "code",
   "execution_count": 20,
   "id": "ac61dc98",
   "metadata": {},
   "outputs": [
    {
     "data": {
      "text/plain": [
       "[5, 6, 7, 1, 2, 3, 4]"
      ]
     },
     "execution_count": 20,
     "metadata": {},
     "output_type": "execute_result"
    }
   ],
   "source": [
    "nums = [1,2,3,4,5,6,7]\n",
    "k = 3\n",
    "rotate(nums, k)"
   ]
  },
  {
   "cell_type": "markdown",
   "id": "73415d70",
   "metadata": {},
   "source": [
    "**Question 6**\n",
    "\n",
    "Given a binary array nums, return the maximum number of consecutive 1's in the array.\n",
    "\n",
    "**Example 1:**\n",
    "\n",
    "**Input:** nums = [1,1,0,1,1,1]\n",
    "\n",
    "**Output:** 3\n",
    "\n",
    "**Explanation:** The first two digits or the last three digits are consecutive 1s. The maximum number of consecutive 1s is 3.\n",
    "\n",
    "**Solution:**\n",
    "\n",
    "**Time Complexity:** O(n)\n",
    "\n",
    "**Space Complexity:** O(1)"
   ]
  },
  {
   "cell_type": "code",
   "execution_count": 26,
   "id": "d73b8bfb",
   "metadata": {},
   "outputs": [],
   "source": [
    "def maxConsecutiveOne(nums):\n",
    "    count = 0\n",
    "    max_count = 0\n",
    "    \n",
    "    for i in range(0,len(nums)):\n",
    "        \n",
    "        if (nums[i] == 1):\n",
    "            count = count + 1            \n",
    "        else:\n",
    "            max_count = max(max_count, count)\n",
    "            count = 0\n",
    "            \n",
    "    return max(max_count,count)\n",
    "            "
   ]
  },
  {
   "cell_type": "code",
   "execution_count": 27,
   "id": "4363ff13",
   "metadata": {},
   "outputs": [
    {
     "data": {
      "text/plain": [
       "3"
      ]
     },
     "execution_count": 27,
     "metadata": {},
     "output_type": "execute_result"
    }
   ],
   "source": [
    "maxConsecutiveOne([1,1,0,1,1,1])"
   ]
  },
  {
   "cell_type": "code",
   "execution_count": null,
   "id": "14f9828b",
   "metadata": {},
   "outputs": [],
   "source": []
  }
 ],
 "metadata": {
  "kernelspec": {
   "display_name": "Python 3 (ipykernel)",
   "language": "python",
   "name": "python3"
  },
  "language_info": {
   "codemirror_mode": {
    "name": "ipython",
    "version": 3
   },
   "file_extension": ".py",
   "mimetype": "text/x-python",
   "name": "python",
   "nbconvert_exporter": "python",
   "pygments_lexer": "ipython3",
   "version": "3.9.13"
  }
 },
 "nbformat": 4,
 "nbformat_minor": 5
}
