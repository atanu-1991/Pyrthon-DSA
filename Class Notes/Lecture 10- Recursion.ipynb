{
 "cells": [
  {
   "cell_type": "markdown",
   "id": "70ac3695",
   "metadata": {},
   "source": [
    "**Question 1**\n",
    "\n",
    "Given a number, we need to find sum of its digits using recursion.\n",
    "\n",
    "Examples:\n",
    "\n",
    "Input : 12345\n",
    "Output : 15\n",
    "\n",
    "Input : 45632\n",
    "Output :20\n",
    "\n",
    "**Explanation :** \n",
    "\n",
    "The step-by-step process for a better understanding of how the algorithm works.\n",
    "\n",
    "Let the number be 12345.\n",
    "\n",
    "Step 1-> 12345 % 10 which is equal-too 5 + ( send 12345/10 to next step )\n",
    "\n",
    "Step 2-> 1234 % 10 which is equal-too 4 + ( send 1234/10 to next step )\n",
    "\n",
    "Step 3-> 123 % 10 which is equal-too 3 + ( send 123/10 to next step )\n",
    "\n",
    "Step 4-> 12 % 10 which is equal-too 2 + ( send 12/10 to next step )\n",
    "\n",
    "Step 5-> 1 % 10 which is equal-too 1 + ( send 1/10 to next step )\n",
    "\n",
    "Step 6-> 0 algorithm stops\n",
    "\n",
    "**Time complexity :** O(logn) where n is the given number.\n",
    "\n",
    "**Auxiliary space :** O(logn) due to recursive stack space.\n",
    "\n",
    "**Solution :**"
   ]
  },
  {
   "cell_type": "code",
   "execution_count": 1,
   "id": "b5108880",
   "metadata": {},
   "outputs": [],
   "source": [
    "def sumOfDogits(N):\n",
    "    if (N==0):\n",
    "        return 0\n",
    "    digit = N % 10\n",
    "    return digit + sumOfDogits(N//10)"
   ]
  },
  {
   "cell_type": "code",
   "execution_count": 4,
   "id": "5f16e7eb",
   "metadata": {},
   "outputs": [
    {
     "data": {
      "text/plain": [
       "3"
      ]
     },
     "execution_count": 4,
     "metadata": {},
     "output_type": "execute_result"
    }
   ],
   "source": [
    "sumOfDogits(1002)"
   ]
  },
  {
   "cell_type": "markdown",
   "id": "7b77d0bd",
   "metadata": {},
   "source": [
    "**Question 2**\n",
    "\n",
    "Given two numbers **a** and **b**, the task is to find the GCD of the two numbers.\n",
    "\n",
    "**Note:** GCD (Greatest Common Divisor) or HCF (Highest Common Factor) of two numbers is the largest number that divides both of them.\n",
    "\n",
    "***Input:** a = 20, b = 28*\n",
    "\n",
    "**Output:** 4\n",
    "\n",
    "**Explanation:** The factors of 20 are 1, 2, 4, 5, 10 and 20. The factors of 28 are 1, 2, 4, 7, 14 and 28. Among these factors, 1, 2 and 4 are the common factors of both 20 and 28. The greatest among the common factors is 4.\n",
    "\n",
    "***Input:** a = 60, b = 36*\n",
    "\n",
    "**Output:** 12\n",
    "\n",
    "**Time Complexity:** O(log(min(a,b))\n",
    "\n",
    "**Auxiliary Space:** O(log(min(a,b))\n",
    "\n",
    "**Solution :**"
   ]
  },
  {
   "cell_type": "code",
   "execution_count": 5,
   "id": "b41dc36e",
   "metadata": {},
   "outputs": [],
   "source": [
    "def gcd(a,b):\n",
    "    if b==0:\n",
    "        return a\n",
    "    return gcd(b, a%b)"
   ]
  },
  {
   "cell_type": "code",
   "execution_count": 6,
   "id": "1c65f0c5",
   "metadata": {},
   "outputs": [
    {
     "data": {
      "text/plain": [
       "1"
      ]
     },
     "execution_count": 6,
     "metadata": {},
     "output_type": "execute_result"
    }
   ],
   "source": [
    "gcd(13,21)"
   ]
  },
  {
   "cell_type": "code",
   "execution_count": null,
   "id": "8c4043cf",
   "metadata": {},
   "outputs": [],
   "source": []
  }
 ],
 "metadata": {
  "kernelspec": {
   "display_name": "Python 3 (ipykernel)",
   "language": "python",
   "name": "python3"
  },
  "language_info": {
   "codemirror_mode": {
    "name": "ipython",
    "version": 3
   },
   "file_extension": ".py",
   "mimetype": "text/x-python",
   "name": "python",
   "nbconvert_exporter": "python",
   "pygments_lexer": "ipython3",
   "version": "3.9.13"
  }
 },
 "nbformat": 4,
 "nbformat_minor": 5
}
