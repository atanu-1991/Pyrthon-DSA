{
 "cells": [
  {
   "cell_type": "markdown",
   "id": "3f6e3fd4",
   "metadata": {},
   "source": [
    "**Question 1**\n",
    "\n",
    "Given an array nums containing n distinct numbers in the range [0, n], return the\n",
    "only number in the range that is missing from the array.\n",
    "\n",
    "**Example 1:**\n",
    "    \n",
    "Input: nums = [3,0,1]\n",
    "Output: 2\n",
    "Explanation: n = 3 since there are 3 numbers, so all numbers are in the range\n",
    "[0,3]. 2 is the missing number in the range since it does not appear in nums.\n",
    "\n",
    "**Solution:**  \n",
    "Python: https://pastebin.com/HJ2sXVbV\n",
    "\n",
    "Time Complexity: O(n)  \n",
    "Space Complexity: O (n)  "
   ]
  },
  {
   "cell_type": "code",
   "execution_count": 1,
   "id": "2c1b5c62",
   "metadata": {},
   "outputs": [],
   "source": [
    "def missingNums(nums):\n",
    "    numSet = set(nums)\n",
    "    \n",
    "    expectedNumCount = len(nums) + 1\n",
    "    \n",
    "    for number in range(expectedNumCount):\n",
    "        if number not in numSet:\n",
    "            return number\n",
    "        \n",
    "    return -1"
   ]
  },
  {
   "cell_type": "code",
   "execution_count": 2,
   "id": "b81049a2",
   "metadata": {},
   "outputs": [
    {
     "data": {
      "text/plain": [
       "2"
      ]
     },
     "execution_count": 2,
     "metadata": {},
     "output_type": "execute_result"
    }
   ],
   "source": [
    "missingNums([0,1,3])"
   ]
  },
  {
   "cell_type": "markdown",
   "id": "47efe7ff",
   "metadata": {},
   "source": [
    "**Question 2**\n",
    "\n",
    "Given an array of intervals where intervals[i] = [starti, endi], merge all overlapping\n",
    "intervals, and return an array of the non-overlapping intervals that cover all the\n",
    "intervals in the input.\n",
    "\n",
    "**Example 1:**\n",
    "\n",
    "Input: intervals = [[1,3],[2,6],[8,10],[15,18]]  \n",
    "Output: [[1,6],[8,10],[15,18]]  \n",
    "\n",
    "**Explanation:** Since intervals [1,3] and [2,6] overlap, merge them into [1,6].\n",
    "\n",
    "**Solution:**  \n",
    "Python: https://pastebin.com/DsTCaT1w\n",
    "\n",
    "Time Complexity : O(nlogn)  \n",
    "Space Complexity : O (log n)  "
   ]
  },
  {
   "cell_type": "code",
   "execution_count": 28,
   "id": "bf2c7415",
   "metadata": {},
   "outputs": [],
   "source": [
    "def merge(intervals):\n",
    "    intervals.sort(key=lambda x: x[0])\n",
    "    \n",
    "    merged = []\n",
    "    \n",
    "    for interval in intervals:\n",
    "        if not merged or merged[-1][1]<interval[0]:\n",
    "            merged.append(interval)\n",
    "        else:\n",
    "            merged[-1][1] = max(merged[-1][1], interval[1])\n",
    "    return merged"
   ]
  },
  {
   "cell_type": "code",
   "execution_count": 29,
   "id": "0144838a",
   "metadata": {},
   "outputs": [
    {
     "data": {
      "text/plain": [
       "[[1, 6], [8, 10], [15, 18]]"
      ]
     },
     "execution_count": 29,
     "metadata": {},
     "output_type": "execute_result"
    }
   ],
   "source": [
    "merge([[1,3],[2,6],[8,10],[15,18]])"
   ]
  },
  {
   "cell_type": "code",
   "execution_count": 30,
   "id": "5249d958",
   "metadata": {},
   "outputs": [
    {
     "data": {
      "text/plain": [
       "[[1, 5], [8, 13]]"
      ]
     },
     "execution_count": 30,
     "metadata": {},
     "output_type": "execute_result"
    }
   ],
   "source": [
    "merge([[1,4],[4,5],[8,11],[10,13]])"
   ]
  },
  {
   "cell_type": "markdown",
   "id": "747f8ba1",
   "metadata": {},
   "source": [
    "**Question 3** \n",
    "\n",
    "You are given two integer arrays nums1 and nums2, sorted in non-decreasing order, and two integers m and n, representing the number of elements in nums1 and nums2 respectively.  \n",
    "\n",
    "Merge nums1 and nums2 into a single array sorted in non-decreasing order.\n",
    "\n",
    "The final sorted array should not be returned by the function, but instead be stored inside the array nums1. To accommodate this, nums1 has a length of m + n, where the first m elements denote the elements that should be merged, and the last n elements are set to 0 and should be ignored. nums2 has a length of n.\n",
    "\n",
    "**Example 1:**\n",
    "\n",
    "**Input:** nums1 = [1,2,3,0,0,0], m = 3, nums2 = [2,5,6], n = 3  \n",
    "**Output:** [1,2,2,3,5,6]  \n",
    "\n",
    "**Explanation:** The arrays we are merging are [1,2,3] and [2,5,6].The result of the merge is [1,2,2,3,5,6] with the underlined elements coming from nums1.\n",
    "\n",
    "**Solution:**\n",
    "Python: https://pastebin.com/zzHVTDmA\n",
    "\n",
    "Time Complexity: O(nlogn)  \n",
    "Space Complexity: O(logn)  "
   ]
  },
  {
   "cell_type": "code",
   "execution_count": 4,
   "id": "5be497ce",
   "metadata": {},
   "outputs": [],
   "source": [
    "def merge(nums1, m, nums2, n):\n",
    "    \n",
    "    nums1Copy = nums1[:m]\n",
    "    p1, p2 = 0, 0\n",
    "    p= 0\n",
    "    \n",
    "    while p < m+n:\n",
    "        if p2 >= n or (p1 < m and nums1Copy[p1] < nums2[p2]):\n",
    "            nums1[p] = nums1Copy[p1]\n",
    "            p1 = p1 + 1\n",
    "        else:\n",
    "            nums1[p] = nums2[p2]\n",
    "            p2 = p2 + 1\n",
    "        p = p + 1\n",
    "        \n",
    "    return nums1"
   ]
  },
  {
   "cell_type": "code",
   "execution_count": 7,
   "id": "a80d515a",
   "metadata": {},
   "outputs": [],
   "source": [
    "nums1 = [1,2,3,0,0,0]\n",
    "m = 3\n",
    "nums2 = [2,5,6]\n",
    "n = 3"
   ]
  },
  {
   "cell_type": "code",
   "execution_count": 8,
   "id": "05aa4ac9",
   "metadata": {},
   "outputs": [
    {
     "data": {
      "text/plain": [
       "[1, 2, 2, 3, 5, 6]"
      ]
     },
     "execution_count": 8,
     "metadata": {},
     "output_type": "execute_result"
    }
   ],
   "source": [
    "merge(nums1, m, nums2, n)"
   ]
  },
  {
   "cell_type": "markdown",
   "id": "24b3263f",
   "metadata": {},
   "source": [
    "**Question 4**\n",
    "\n",
    "Given an array nums of size n, return the majority element. The majority element is the element that appears more than ⌊n / 2⌋ times. You may assume that the majority element always exists in the array.\n",
    "\n",
    "**Example 1:**\n",
    "\n",
    "**Input:** nums = [3,2,3]  \n",
    "**Output:** 3  \n",
    "\n",
    "**Solution:**\n",
    "\n",
    "**Python:** https://pastebin.com/E3AR6D6M\n",
    "\n",
    "Time Complexity: O(nlogn)  \n",
    "Space Complexity : O(logn)  "
   ]
  },
  {
   "cell_type": "code",
   "execution_count": 10,
   "id": "13624f34",
   "metadata": {},
   "outputs": [],
   "source": [
    "def majorityElement(nums):\n",
    "    nums.sort()\n",
    "    return nums[len(nums) // 2]"
   ]
  },
  {
   "cell_type": "code",
   "execution_count": 11,
   "id": "008873e2",
   "metadata": {},
   "outputs": [
    {
     "data": {
      "text/plain": [
       "3"
      ]
     },
     "execution_count": 11,
     "metadata": {},
     "output_type": "execute_result"
    }
   ],
   "source": [
    "majorityElement([3,3,3,3,4,7])"
   ]
  },
  {
   "cell_type": "markdown",
   "id": "a633058b",
   "metadata": {},
   "source": [
    "**Question 5**\n",
    "\n",
    "Given an array of integers nums containing n + 1 integers where each integer is in the range [1, n] inclusive.\n",
    "\n",
    "There is only one repeated number in nums, return this repeated number.\n",
    "\n",
    "You must solve the problem without modifying the array nums and uses only constant extra space.\n",
    "\n",
    "**Example 1:**  \n",
    "**Input:** nums = [1,3,4,2,2]  \n",
    "**Output:** 2  \n",
    "\n",
    "**Solution:**\n",
    "**Python:** https://pastebin.com/vauPf0Yb\n",
    "\n",
    "Time Complexity : O(n)  \n",
    "Space Complexity : O(n)"
   ]
  },
  {
   "cell_type": "code",
   "execution_count": 12,
   "id": "5e3c28cd",
   "metadata": {},
   "outputs": [],
   "source": [
    "def findDuplicate(nums):\n",
    "    seen = set()\n",
    "    for num in nums:\n",
    "        if num in seen:\n",
    "            return num\n",
    "        seen.add(num)\n",
    "    return -1"
   ]
  },
  {
   "cell_type": "code",
   "execution_count": 15,
   "id": "04168883",
   "metadata": {},
   "outputs": [
    {
     "data": {
      "text/plain": [
       "2"
      ]
     },
     "execution_count": 15,
     "metadata": {},
     "output_type": "execute_result"
    }
   ],
   "source": [
    "findDuplicate([1,3,4,2,2])"
   ]
  },
  {
   "cell_type": "markdown",
   "id": "7c4ef89a",
   "metadata": {},
   "source": [
    "**Question 6**\n",
    "\n",
    "There are many situations where we use integer values as index in array to see presence or absence. We can use bit manipulations to optimize space in such\n",
    "problems.\n",
    "Let us consider the below problem as an example.\n",
    "\n",
    "Given two numbers say a and b, mark the multiples of 2 and 5 between a and b and output each of the multiples.\n",
    "\n",
    "**Note :** We have to mark the multiples i.e save (key, value) pairs in memory such that each key either has a value as 1 or 0 representing a multiple of 2 or 5 or not respectively.\n",
    "\n",
    "**Examples :**  \n",
    "Input : 2 10  \n",
    "Output : 2 4 5 6 8 10  \n",
    "\n",
    "Input: 60 95  \n",
    "Output: 60 62 64 65 66 68 70 72 74 75 76 78  \n",
    "80 82 84 85 86 88 90 92 94 95  \n",
    "\n",
    "**Solution:**\n",
    "\n",
    "**Python:** https://pastebin.com/jYse75qN  \n",
    "Time Complexity : O(n)  \n",
    "Space Complexity : O(n)  "
   ]
  },
  {
   "cell_type": "code",
   "execution_count": 27,
   "id": "49a85d2a",
   "metadata": {},
   "outputs": [],
   "source": [
    "def calculate_divisible(num1, num2):\n",
    "    a = num1\n",
    "    b = num2\n",
    "    size = abs(b-a) + 1\n",
    "    array = [0] * size\n",
    "    \n",
    "    for i in range(a, b+1):\n",
    "        if i%2==0 or i%5==0:\n",
    "            array[i-a]=1\n",
    "    \n",
    "    print(f\"\\nMultiples of 2 and 5 between {a} and {b} are: \",end=\"\")\n",
    "    for i in range(a, b+1):\n",
    "        if array[i-a] == 1:\n",
    "            print(i, end=\" \")"
   ]
  },
  {
   "cell_type": "code",
   "execution_count": 30,
   "id": "92d48992",
   "metadata": {},
   "outputs": [
    {
     "name": "stdout",
     "output_type": "stream",
     "text": [
      "Enter First Number: 60\n",
      "Enter Second Number: 70\n",
      "\n",
      "Multiples of 2 and 5 between 60 and 70 are: 60 62 64 65 66 68 70 "
     ]
    }
   ],
   "source": [
    "number1 = int(input(\"Enter First Number: \"))\n",
    "number2 = int(input(\"Enter Second Number: \"))\n",
    "calculate_divisible(number1, number2)"
   ]
  },
  {
   "cell_type": "markdown",
   "id": "6191be04",
   "metadata": {},
   "source": [
    "**Question 7**\n",
    "\n",
    "Given an array of positive integers. We need to make the given array a ‘Palindrome’. The only allowed operation is ”merging” (of two adjacent elements). Merging two adjacent elements means replacing them with their sum. The task is\n",
    "to find the minimum number of merge operations required to make the given array a ‘Palindrome’.\n",
    "\n",
    "To make any array a palindrome, we can simply apply merge operation n-1 times where n is the size of the array (because a single-element array is always palindromic, similar to a single-character string). In that case, the size of array will be reduced to 1. But in this problem, we are asked to do it in the minimum number of operations.\n",
    "\n",
    "**Example :**  \n",
    "Input : arr[] = {15, 4, 15}  \n",
    "Output : 0  \n",
    "\n",
    "Array is already a palindrome. So we do not need any merge operation.  \n",
    "\n",
    "Input : arr[] = {1, 4, 5, 1}  \n",
    "Output : 1  \n",
    "\n",
    "We can make given array palindrome with minimum one merging (merging 4 and 5 to make 9)\n",
    "\n",
    "Input : arr[] = {11, 14, 15, 99}  \n",
    "Output : 3  \n",
    "\n",
    "We need to merge all elements to make a palindrome.\n",
    "\n",
    "**Solution:**  \n",
    "Python: https://pastebin.com/b3NyqXs4\n",
    "\n",
    "Time Complexity : O(n)  \n",
    "Space Complexity : O(1)  "
   ]
  },
  {
   "cell_type": "code",
   "execution_count": 31,
   "id": "0fbc57d0",
   "metadata": {},
   "outputs": [],
   "source": [
    "def palindrome(arr, n):\n",
    "    # Initialize result\n",
    "    ans = 0\n",
    "    \n",
    "    # Start from two corners\n",
    "    i, j = 0, n-1\n",
    "    while i<=j:\n",
    "        # If corner elements are the same, problem reduces arr[i+1....j-1]\n",
    "        if arr[i] == arr[j]:\n",
    "            i = i + 1\n",
    "            j = j - 1\n",
    "            \n",
    "        # If the left element is greater, then we merge the right two elements\n",
    "        elif arr[i] > arr[j]:\n",
    "            # Need to merge from the tail.\n",
    "            j = j - 1\n",
    "            arr[j] = arr[j] + arr[j+1]\n",
    "            ans = ans + 1\n",
    "        # Else we merge the left two elements\n",
    "        else:\n",
    "            i = i + 1\n",
    "            arr[i] = arr[i] + arr[i-1]\n",
    "            ans = ans + 1\n",
    "            \n",
    "    return ans"
   ]
  },
  {
   "cell_type": "code",
   "execution_count": 33,
   "id": "af741b5c",
   "metadata": {},
   "outputs": [
    {
     "name": "stdout",
     "output_type": "stream",
     "text": [
      "Count of minimum operations is 3\n"
     ]
    }
   ],
   "source": [
    "# Driver method to test the above function\n",
    "arr = [11, 14, 15, 99]\n",
    "print(\"Count of minimum operations is\", palindrome(arr, len(arr)))"
   ]
  },
  {
   "cell_type": "code",
   "execution_count": null,
   "id": "b327b84a",
   "metadata": {},
   "outputs": [],
   "source": []
  }
 ],
 "metadata": {
  "kernelspec": {
   "display_name": "Python 3 (ipykernel)",
   "language": "python",
   "name": "python3"
  },
  "language_info": {
   "codemirror_mode": {
    "name": "ipython",
    "version": 3
   },
   "file_extension": ".py",
   "mimetype": "text/x-python",
   "name": "python",
   "nbconvert_exporter": "python",
   "pygments_lexer": "ipython3",
   "version": "3.9.13"
  }
 },
 "nbformat": 4,
 "nbformat_minor": 5
}
