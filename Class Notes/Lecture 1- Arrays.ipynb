{
 "cells": [
  {
   "cell_type": "markdown",
   "id": "44f4ad89",
   "metadata": {},
   "source": [
    "# Lecture 1 - Arrays\n",
    "\n",
    "**Q1** Given an array of size N. The task is to find the maximum and the minimum element of the array using the minimum number of comparisons.\n",
    "\n",
    "**Examples:**\n",
    "\n",
    "Input: arr[] = {3, 5, 4, 1, 9}\n",
    "\n",
    "Output: Minimum element is: 1\n",
    "\n",
    "Maximum element is: 9\n",
    "\n",
    "**Solution:**\n",
    "\n",
    "**Python**\n",
    "\n",
    "Code link :- https://pastebin.com/QY1F14zj\n",
    "\n",
    "Time Complexity : O(n)\n",
    "\n",
    "Space Complexity: O(n)"
   ]
  },
  {
   "cell_type": "code",
   "execution_count": 3,
   "id": "426243e5",
   "metadata": {},
   "outputs": [],
   "source": [
    "def chek_min_max(list_example, length_of_list):\n",
    "    min_ele = 0\n",
    "    max_ele = 0\n",
    "    if (length_of_list == 0):\n",
    "        return min_ele,max_ele\n",
    "    elif (length_of_list == 1):\n",
    "        min_ele = list_example[0]\n",
    "        max_ele = list_example[0]\n",
    "        return min_ele,max_ele\n",
    "    elif (length_of_list > 1):\n",
    "        min_ele = list_example[0]\n",
    "        max_ele = list_example[0]\n",
    "        for i in range(len(list_example)):\n",
    "            if (list_example[i]>max_ele):\n",
    "                max_ele = list_example[i]\n",
    "            elif (list_example[i]<min_ele):\n",
    "                min_ele = list_example[i]\n",
    "        return min_ele,max_ele"
   ]
  },
  {
   "cell_type": "code",
   "execution_count": 4,
   "id": "30f12ef4",
   "metadata": {},
   "outputs": [
    {
     "data": {
      "text/plain": [
       "(1, 3000)"
      ]
     },
     "execution_count": 4,
     "metadata": {},
     "output_type": "execute_result"
    }
   ],
   "source": [
    "l = [1000, 11, 445, 1, 330, 3000]\n",
    "length_of_list = 6\n",
    "min_ele,max_ele = chek_min_max(l,length_of_list)\n",
    "min_ele,max_ele"
   ]
  },
  {
   "cell_type": "markdown",
   "id": "4d64a783",
   "metadata": {},
   "source": [
    "**Q2.** You are given an array prices where prices[i] is the price of a given stock on the ith day.\n",
    "\n",
    "You want to maximize your profit by choosing a **single day** to buy one stock and choosing a **different day in the future** to sell that stock.\n",
    "\n",
    "Return the maximum profit you can achieve from this transaction. If you cannot achieve any profit, return 0.\n",
    "\n",
    "**Example :**\n",
    "\n",
    "**Input:** prices = [7,1,5,3,6,4]\n",
    "\n",
    "**Output:** 5\n",
    "\n",
    "**Explanation:** Buy on day 2 (price = 1) and sell on day 5 (price = 6), profit = 6-1 = 5.\n",
    "\n",
    "Note that buying on day 2 and selling on day 1 is not allowed because you must buy before you sell.\n",
    "\n",
    "**Solution:**\n",
    "\n",
    "**Python**\n",
    "\n",
    "Code link :- https://pastebin.com/egp6WbvM\n",
    "\n",
    "Time Complexity: O(n)\n",
    "\n",
    "Space Complexity : O(1)"
   ]
  },
  {
   "cell_type": "code",
   "execution_count": 1,
   "id": "bcdf5adc",
   "metadata": {},
   "outputs": [],
   "source": [
    "def calculate_profit(sale_list):\n",
    "    profit = 0\n",
    "    max_profit = 0\n",
    "    minimum = sale_list[0]\n",
    "    for i in sale_list:\n",
    "        if i<minimum:\n",
    "            minimum = i\n",
    "        elif i==minimum:\n",
    "            minimum = i\n",
    "        price = i\n",
    "        profit = price - minimum\n",
    "        max_profit = max(max_profit,profit)\n",
    "        \n",
    "    return max_profit"
   ]
  },
  {
   "cell_type": "code",
   "execution_count": 2,
   "id": "68ae3685",
   "metadata": {},
   "outputs": [
    {
     "data": {
      "text/plain": [
       "7"
      ]
     },
     "execution_count": 2,
     "metadata": {},
     "output_type": "execute_result"
    }
   ],
   "source": [
    "calculate_profit([7,9,1,5,3,6,8,4])"
   ]
  },
  {
   "cell_type": "code",
   "execution_count": 4,
   "id": "284bcc8c",
   "metadata": {},
   "outputs": [],
   "source": [
    "# Alternate way to calculate max_profit\n",
    "def calculate_profit(price_list):\n",
    "    max_profit = 0\n",
    "    min_price = float('inf')\n",
    "    for price in price_list:\n",
    "        if min_price > price:\n",
    "            min_price = price\n",
    "        elif (price - min_price > max_profit):\n",
    "            max_profit = price - min_price\n",
    "            \n",
    "    return max_profit"
   ]
  },
  {
   "cell_type": "code",
   "execution_count": 5,
   "id": "63087b89",
   "metadata": {},
   "outputs": [
    {
     "data": {
      "text/plain": [
       "7"
      ]
     },
     "execution_count": 5,
     "metadata": {},
     "output_type": "execute_result"
    }
   ],
   "source": [
    "calculate_profit([7,9,1,5,3,6,8,4])"
   ]
  },
  {
   "cell_type": "markdown",
   "id": "058f34cf",
   "metadata": {},
   "source": [
    "**Q3.** Given an integer array nums, find a subarray that has the largest product, and return the product.\n",
    "\n",
    "The test cases are generated so that the answer will fit in a 32-bit integer.\n",
    "\n",
    "**Example:**\n",
    "\n",
    "Input: nums = [2,3,-2,4]\n",
    "\n",
    "Output: 6\n",
    "\n",
    "Explanation: [2,3] has the largest product 6.\n",
    "\n",
    "**Solution:**\n",
    "\n",
    "**Python:**\n",
    "\n",
    "Code link :- https://pastebin.com/ji94WCaX\n",
    "\n",
    "Time Complexity: O(n)\n",
    "\n",
    "Space Complexity : O(1)"
   ]
  },
  {
   "cell_type": "code",
   "execution_count": 15,
   "id": "560c0bde",
   "metadata": {},
   "outputs": [],
   "source": [
    "def max_product(product_list):\n",
    "    prod = 1\n",
    "    max_till_now = 1\n",
    "\n",
    "    for i in product_list:\n",
    "        temp = prod * i\n",
    "        if (temp >max_till_now):\n",
    "            max_till_now = temp\n",
    "            min_till_now = prod\n",
    "            prod = temp\n",
    "            max_ele1 = max(max_till_now,min_till_now)\n",
    "        elif(temp < max_till_now):\n",
    "            min_till_now = temp\n",
    "            max_till_now = prod\n",
    "            prod = temp\n",
    "            max_ele2 = max(max_till_now,min_till_now)\n",
    "    return max(max_ele1,max_ele2)"
   ]
  },
  {
   "cell_type": "code",
   "execution_count": 19,
   "id": "8a2cf3f6",
   "metadata": {},
   "outputs": [
    {
     "data": {
      "text/plain": [
       "48"
      ]
     },
     "execution_count": 19,
     "metadata": {},
     "output_type": "execute_result"
    }
   ],
   "source": [
    "max_product([2,3,-2,-4,-5,2])"
   ]
  },
  {
   "cell_type": "code",
   "execution_count": 6,
   "id": "3eb44905",
   "metadata": {},
   "outputs": [],
   "source": [
    "# Alternate way to calculate product of sub array\n",
    "def max_product2(product_list):\n",
    "    if len(product_list)==0:\n",
    "        return 0\n",
    "    max_so_far = product_list[0]\n",
    "    min_so_far = product_list[0]\n",
    "    result = max_so_far\n",
    "    \n",
    "    for i in range(1, len(product_list)):\n",
    "        curr = product_list[i]\n",
    "        temp_max = max(max_so_far*curr, min_so_far*curr, curr)\n",
    "        min_so_far = min(max_so_far*curr, min_so_far*curr, curr)\n",
    "        \n",
    "        max_so_far = temp_max\n",
    "        \n",
    "        result = max(max_so_far, result)\n",
    "        \n",
    "    return result"
   ]
  },
  {
   "cell_type": "code",
   "execution_count": 8,
   "id": "046c3b16",
   "metadata": {},
   "outputs": [
    {
     "data": {
      "text/plain": [
       "48"
      ]
     },
     "execution_count": 8,
     "metadata": {},
     "output_type": "execute_result"
    }
   ],
   "source": [
    "max_product2([2,3,-2,-4,-5,2])"
   ]
  },
  {
   "cell_type": "markdown",
   "id": "759dca6a",
   "metadata": {},
   "source": [
    "**Q4.** Given an integer array nums, return all the triplets [nums[i], nums[j], nums[k]] such that i != j, i != k, and j != k, and nums[i] + nums[j] + nums[k] == 0.\n",
    "\n",
    "Notice that the solution set must not contain duplicate triplets.\n",
    "\n",
    "**Example:**\n",
    "\n",
    "Input: nums = [-1,0,1,2,-1,-4]\n",
    "\n",
    "Output: [[-1,-1,2],[-1,0,1]]\n",
    "\n",
    "Explanation:\n",
    "\n",
    "nums[0] + nums[1] + nums[2] = (-1) + 0 + 1 = 0.\n",
    "\n",
    "nums[1] + nums[2] + nums[4] = 0 + 1 + (-1) = 0.\n",
    "\n",
    "nums[0] + nums[3] + nums[4] = (-1) + 2 + (-1) = 0.\n",
    "\n",
    "The distinct triplets are [-1,0,1] and [-1,-1,2].\n",
    "\n",
    "Notice that the order of the output and the order of the triplets does not matter.\n",
    "\n",
    "**Solution:**\n",
    "\n",
    "**Python :**\n",
    "\n",
    "Code link :- https://pastebin.com/RadQa4mC\n",
    "\n",
    "Time Complexity: O(n^2)\n",
    "\n",
    "Space Complexity : O(n) depending on which sorting algo is used"
   ]
  },
  {
   "cell_type": "code",
   "execution_count": 50,
   "id": "5a074531",
   "metadata": {},
   "outputs": [],
   "source": [
    "def twoSumII(nums, i, res):\n",
    "    \n",
    "    lo, hi = i+1, len(nums)-1\n",
    "    \n",
    "    while(lo < hi):\n",
    "        sums = nums[i] + nums[lo] + nums[hi]\n",
    "        if sums<0:\n",
    "            lo += 1\n",
    "        elif sums>0:\n",
    "            hi -= 1\n",
    "        else:\n",
    "            res.append([nums[i], nums[lo], nums[hi]])\n",
    "            lo += 1\n",
    "            hi -= 1\n",
    "            while lo<hi and nums[lo] == nums[lo-1]:\n",
    "                lo += 1\n",
    "                \n",
    "    return res"
   ]
  },
  {
   "cell_type": "code",
   "execution_count": 51,
   "id": "ebdb003a",
   "metadata": {},
   "outputs": [],
   "source": [
    "def threeSum(nums):\n",
    "    nums.sort()\n",
    "    res = []\n",
    "    for i in range(len(nums)):\n",
    "        \n",
    "        if nums[i] > 0:\n",
    "            break\n",
    "            \n",
    "        if i==0 or nums[i-1] != nums[i]:\n",
    "            res = twoSumII(nums, i, res)\n",
    "            \n",
    "    return res"
   ]
  },
  {
   "cell_type": "code",
   "execution_count": 52,
   "id": "c9bd2e9f",
   "metadata": {},
   "outputs": [
    {
     "data": {
      "text/plain": [
       "[[-1, -1, 2], [-1, 0, 1]]"
      ]
     },
     "execution_count": 52,
     "metadata": {},
     "output_type": "execute_result"
    }
   ],
   "source": [
    "threeSum([-1,0,1,2,-1,-4])"
   ]
  },
  {
   "cell_type": "markdown",
   "id": "65bdfdfc",
   "metadata": {},
   "source": [
    "**Q5.** Given an integer array nums and an integer k, return the kth largest element in the array. Note that it is the kth largest element in the sorted order, not the kth distinct element.\n",
    "\n",
    "**Example 1:**\n",
    "\n",
    "Input: nums = [3,2,1,5,6,4], k = 2\n",
    "\n",
    "Output: 5\n",
    "\n",
    "**Solution:**\n",
    "\n",
    "**Python :**\n",
    "\n",
    "Code link : https://pastebin.com/AHyXcwrr\n",
    "\n",
    "Time Complexity: O( n log k)\n",
    "\n",
    "Space Complexity : O( k)"
   ]
  },
  {
   "cell_type": "code",
   "execution_count": 1,
   "id": "44286d77",
   "metadata": {},
   "outputs": [
    {
     "name": "stdout",
     "output_type": "stream",
     "text": [
      "Collecting heapq_max\n",
      "  Downloading heapq_max-0.21.zip (7.0 kB)\n",
      "  Preparing metadata (setup.py): started\n",
      "  Preparing metadata (setup.py): finished with status 'done'\n",
      "Building wheels for collected packages: heapq_max\n",
      "  Building wheel for heapq_max (setup.py): started\n",
      "  Building wheel for heapq_max (setup.py): finished with status 'done'\n",
      "  Created wheel for heapq_max: filename=heapq_max-0.21-py3-none-any.whl size=3576 sha256=ed2c38742634d9b292226246e7110955486186bb454ca1b910b0fb8381f68393\n",
      "  Stored in directory: c:\\users\\atanu\\appdata\\local\\pip\\cache\\wheels\\d3\\ca\\1c\\e156a34c92dc3fa3faf8043b05e588e3ee611ef7e2348f7bc7\n",
      "Successfully built heapq_max\n",
      "Installing collected packages: heapq_max\n",
      "Successfully installed heapq_max-0.21\n",
      "Note: you may need to restart the kernel to use updated packages.\n"
     ]
    },
    {
     "name": "stderr",
     "output_type": "stream",
     "text": [
      "'DOSKEY' is not recognized as an internal or external command,\n",
      "operable program or batch file.\n"
     ]
    }
   ],
   "source": [
    "pip install heapq_max"
   ]
  },
  {
   "cell_type": "code",
   "execution_count": 4,
   "id": "7d9cf28e",
   "metadata": {},
   "outputs": [],
   "source": [
    "import heapq\n",
    "\n",
    "def findKthLargest(nums, k):\n",
    "    '''\n",
    "    :type nums: List[int]\n",
    "    :type k: int\n",
    "    :rtype: int\n",
    "    '''\n",
    "    return heapq.nlargest(k, nums)[1]"
   ]
  },
  {
   "cell_type": "code",
   "execution_count": 5,
   "id": "a3293a1e",
   "metadata": {},
   "outputs": [
    {
     "data": {
      "text/plain": [
       "5"
      ]
     },
     "execution_count": 5,
     "metadata": {},
     "output_type": "execute_result"
    }
   ],
   "source": [
    "findKthLargest([3,2,1,5,6,4], 2)"
   ]
  },
  {
   "cell_type": "markdown",
   "id": "445a4556",
   "metadata": {},
   "source": [
    "**Q6.** Given an integer array nums and an integer k, return the kth smallest element in the array. Note that it is the kth smallest element in the sorted order, not the kth distinct element.\n",
    "\n",
    "**Example 1:**\n",
    "\n",
    "Input: nums = [3,2,1,5,6,4], k = 2\n",
    "\n",
    "Output: 2\n",
    "\n",
    "**PYTHON**\n",
    "\n",
    "Code link: https://pastebin.com/RdzmJ0VC"
   ]
  },
  {
   "cell_type": "code",
   "execution_count": 9,
   "id": "b10e0467",
   "metadata": {},
   "outputs": [],
   "source": [
    "def findKthSmallest(nums, k):\n",
    "    '''\n",
    "    :type nums: List[int]\n",
    "    :type k: int\n",
    "    :rtype: int\n",
    "    '''\n",
    "    return heapq.nsmallest(k, nums)[-1]"
   ]
  },
  {
   "cell_type": "code",
   "execution_count": 10,
   "id": "6f147c32",
   "metadata": {},
   "outputs": [
    {
     "data": {
      "text/plain": [
       "2"
      ]
     },
     "execution_count": 10,
     "metadata": {},
     "output_type": "execute_result"
    }
   ],
   "source": [
    "findKthSmallest([3,2,1,5,6,4], 2)"
   ]
  },
  {
   "cell_type": "code",
   "execution_count": null,
   "id": "7fd4f181",
   "metadata": {},
   "outputs": [],
   "source": []
  }
 ],
 "metadata": {
  "kernelspec": {
   "display_name": "Python 3 (ipykernel)",
   "language": "python",
   "name": "python3"
  },
  "language_info": {
   "codemirror_mode": {
    "name": "ipython",
    "version": 3
   },
   "file_extension": ".py",
   "mimetype": "text/x-python",
   "name": "python",
   "nbconvert_exporter": "python",
   "pygments_lexer": "ipython3",
   "version": "3.9.13"
  }
 },
 "nbformat": 4,
 "nbformat_minor": 5
}
